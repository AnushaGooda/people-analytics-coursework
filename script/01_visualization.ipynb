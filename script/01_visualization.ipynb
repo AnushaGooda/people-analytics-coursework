{
 "cells": [
  {
   "cell_type": "markdown",
   "metadata": {
    "id": "m8bH2hHdv_Ar"
   },
   "source": [
    "## Load Libraries"
   ]
  },
  {
   "cell_type": "code",
   "execution_count": 1,
   "metadata": {
    "ExecuteTime": {
     "end_time": "2020-12-17T07:35:17.281903Z",
     "start_time": "2020-12-17T07:35:16.010217Z"
    },
    "id": "Hzy39jTdYUBl"
   },
   "outputs": [],
   "source": [
    "# libraries\n",
    "import os\n",
    "import numpy as np\n",
    "import seaborn as sns\n",
    "import pandas as pd\n",
    "import matplotlib.pyplot as plt\n",
    "from math import pi\n",
    "from sklearn.metrics import confusion_matrix\n",
    "\n",
    "# Bokeh libraries\n",
    "from bokeh.plotting import figure, show, output_file\n",
    "from bokeh.models import HoverTool, ColumnDataSource, PanTool, ResetTool, BoxZoomTool, Panel, Tabs\n",
    "from bokeh.layouts import layout\n",
    "from bokeh.transform import cumsum, dodge\n",
    "from bokeh.palettes import Category20c"
   ]
  },
  {
   "cell_type": "markdown",
   "metadata": {
    "id": "CBkWy3hjzX8k"
   },
   "source": [
    "## Load Data"
   ]
  },
  {
   "cell_type": "code",
   "execution_count": 2,
   "metadata": {
    "ExecuteTime": {
     "end_time": "2020-12-17T07:35:17.561475Z",
     "start_time": "2020-12-17T07:35:17.283599Z"
    },
    "colab": {
     "base_uri": "https://localhost:8080/"
    },
    "id": "4WcZLNy3zuqX",
    "outputId": "ebad5ccd-2fc1-4351-fab0-f2c45302781d"
   },
   "outputs": [],
   "source": [
    "base_path = os.path.join('..', 'datasets')\n",
    "json_path = os.path.join(base_path, 'CSVM.json')\n",
    "pr = pd.read_json(json_path)"
   ]
  },
  {
   "cell_type": "markdown",
   "metadata": {
    "ExecuteTime": {
     "end_time": "2020-12-16T23:57:35.537329Z",
     "start_time": "2020-12-16T23:57:35.534359Z"
    }
   },
   "source": [
    "## Data classification"
   ]
  },
  {
   "cell_type": "code",
   "execution_count": 3,
   "metadata": {
    "ExecuteTime": {
     "end_time": "2020-12-17T07:35:17.908395Z",
     "start_time": "2020-12-17T07:35:17.562933Z"
    }
   },
   "outputs": [],
   "source": [
    "def Check(pr):\n",
    "    if pr['Y'] == pr['prediction_C_SVM']:\n",
    "        return \"True\"\n",
    "    else:\n",
    "        return \"False\"\n",
    "\n",
    "pr['result'] = pr.apply(Check, axis=1)"
   ]
  },
  {
   "cell_type": "code",
   "execution_count": 4,
   "metadata": {
    "ExecuteTime": {
     "end_time": "2020-12-17T07:35:17.930364Z",
     "start_time": "2020-12-17T07:35:17.910461Z"
    }
   },
   "outputs": [],
   "source": [
    "prm1 = pr[pr['Y'] == -1]"
   ]
  },
  {
   "cell_type": "code",
   "execution_count": 5,
   "metadata": {
    "ExecuteTime": {
     "end_time": "2020-12-17T07:35:17.963077Z",
     "start_time": "2020-12-17T07:35:17.934061Z"
    }
   },
   "outputs": [
    {
     "data": {
      "text/html": [
       "<div>\n",
       "<style scoped>\n",
       "    .dataframe tbody tr th:only-of-type {\n",
       "        vertical-align: middle;\n",
       "    }\n",
       "\n",
       "    .dataframe tbody tr th {\n",
       "        vertical-align: top;\n",
       "    }\n",
       "\n",
       "    .dataframe thead th {\n",
       "        text-align: right;\n",
       "    }\n",
       "</style>\n",
       "<table border=\"1\" class=\"dataframe\">\n",
       "  <thead>\n",
       "    <tr style=\"text-align: right;\">\n",
       "      <th></th>\n",
       "      <th>Y</th>\n",
       "      <th>X1</th>\n",
       "      <th>X2</th>\n",
       "      <th>X3</th>\n",
       "      <th>X4</th>\n",
       "      <th>X5</th>\n",
       "      <th>X6</th>\n",
       "      <th>X7</th>\n",
       "      <th>X8</th>\n",
       "      <th>X9</th>\n",
       "      <th>X10</th>\n",
       "      <th>X11</th>\n",
       "      <th>X12</th>\n",
       "      <th>X13</th>\n",
       "      <th>prediction_C_SVM</th>\n",
       "      <th>result</th>\n",
       "    </tr>\n",
       "  </thead>\n",
       "  <tbody>\n",
       "    <tr>\n",
       "      <th>0</th>\n",
       "      <td>-1</td>\n",
       "      <td>25</td>\n",
       "      <td>Private</td>\n",
       "      <td>226802</td>\n",
       "      <td>11th</td>\n",
       "      <td>7</td>\n",
       "      <td>Never-married</td>\n",
       "      <td>Machine-op-inspct</td>\n",
       "      <td>Own-child</td>\n",
       "      <td>Black</td>\n",
       "      <td>Male</td>\n",
       "      <td>0</td>\n",
       "      <td>0</td>\n",
       "      <td>40</td>\n",
       "      <td>-1</td>\n",
       "      <td>True</td>\n",
       "    </tr>\n",
       "    <tr>\n",
       "      <th>1</th>\n",
       "      <td>-1</td>\n",
       "      <td>38</td>\n",
       "      <td>Private</td>\n",
       "      <td>89814</td>\n",
       "      <td>HS-grad</td>\n",
       "      <td>9</td>\n",
       "      <td>Married-civ-spouse</td>\n",
       "      <td>Farming-fishing</td>\n",
       "      <td>Husband</td>\n",
       "      <td>White</td>\n",
       "      <td>Male</td>\n",
       "      <td>0</td>\n",
       "      <td>0</td>\n",
       "      <td>50</td>\n",
       "      <td>-1</td>\n",
       "      <td>True</td>\n",
       "    </tr>\n",
       "  </tbody>\n",
       "</table>\n",
       "</div>"
      ],
      "text/plain": [
       "   Y  X1       X2      X3       X4  X5                  X6                 X7  \\\n",
       "0 -1  25  Private  226802     11th   7       Never-married  Machine-op-inspct   \n",
       "1 -1  38  Private   89814  HS-grad   9  Married-civ-spouse    Farming-fishing   \n",
       "\n",
       "          X8     X9   X10  X11  X12  X13  prediction_C_SVM result  \n",
       "0  Own-child  Black  Male    0    0   40                -1   True  \n",
       "1    Husband  White  Male    0    0   50                -1   True  "
      ]
     },
     "execution_count": 5,
     "metadata": {},
     "output_type": "execute_result"
    }
   ],
   "source": [
    "prm1.head(2)  #salary < 50k"
   ]
  },
  {
   "cell_type": "code",
   "execution_count": 6,
   "metadata": {
    "ExecuteTime": {
     "end_time": "2020-12-17T07:35:17.970508Z",
     "start_time": "2020-12-17T07:35:17.965143Z"
    }
   },
   "outputs": [],
   "source": [
    "pr1 = pr[pr['Y'] == 1]"
   ]
  },
  {
   "cell_type": "code",
   "execution_count": 7,
   "metadata": {
    "ExecuteTime": {
     "end_time": "2020-12-17T07:35:17.995317Z",
     "start_time": "2020-12-17T07:35:17.975147Z"
    }
   },
   "outputs": [],
   "source": [
    "# Error denotes the misclassified case, Correct denotes the correctly classifed cases\n",
    "error1 = prm1[prm1['prediction_C_SVM'] == 1]\n",
    "correct1 = prm1[prm1['prediction_C_SVM'] == -1]\n",
    "error2 = pr1[pr1['prediction_C_SVM'] == -1]\n",
    "correct2 = pr1[pr1['prediction_C_SVM'] == 1]"
   ]
  },
  {
   "cell_type": "code",
   "execution_count": 8,
   "metadata": {
    "ExecuteTime": {
     "end_time": "2020-12-17T07:35:18.042583Z",
     "start_time": "2020-12-17T07:35:17.998557Z"
    }
   },
   "outputs": [],
   "source": [
    "error = error1.append(error2)\n",
    "error = error.reset_index()\n",
    "error = error.drop(columns=['index'])\n",
    "correct = correct1.append(correct2)\n",
    "correct = correct.reset_index()\n",
    "correct = correct.drop(columns=['index'])"
   ]
  },
  {
   "cell_type": "markdown",
   "metadata": {},
   "source": [
    "## Confusion Matrix and Correlation Heatmaps"
   ]
  },
  {
   "cell_type": "code",
   "execution_count": 9,
   "metadata": {
    "ExecuteTime": {
     "end_time": "2020-12-17T07:35:18.065999Z",
     "start_time": "2020-12-17T07:35:18.045137Z"
    }
   },
   "outputs": [],
   "source": [
    "confusion_matrix_error = pd.crosstab(pr['Y'],\n",
    "                                     pr['prediction_C_SVM'],\n",
    "                                     rownames=['Actual'],\n",
    "                                     colnames=['Predicted'])"
   ]
  },
  {
   "cell_type": "code",
   "execution_count": 10,
   "metadata": {
    "ExecuteTime": {
     "end_time": "2020-12-17T07:35:18.076723Z",
     "start_time": "2020-12-17T07:35:18.068223Z"
    }
   },
   "outputs": [
    {
     "data": {
      "text/html": [
       "<div>\n",
       "<style scoped>\n",
       "    .dataframe tbody tr th:only-of-type {\n",
       "        vertical-align: middle;\n",
       "    }\n",
       "\n",
       "    .dataframe tbody tr th {\n",
       "        vertical-align: top;\n",
       "    }\n",
       "\n",
       "    .dataframe thead th {\n",
       "        text-align: right;\n",
       "    }\n",
       "</style>\n",
       "<table border=\"1\" class=\"dataframe\">\n",
       "  <thead>\n",
       "    <tr style=\"text-align: right;\">\n",
       "      <th>Predicted</th>\n",
       "      <th>-1</th>\n",
       "      <th>1</th>\n",
       "    </tr>\n",
       "    <tr>\n",
       "      <th>Actual</th>\n",
       "      <th></th>\n",
       "      <th></th>\n",
       "    </tr>\n",
       "  </thead>\n",
       "  <tbody>\n",
       "    <tr>\n",
       "      <th>-1</th>\n",
       "      <td>10329</td>\n",
       "      <td>1031</td>\n",
       "    </tr>\n",
       "    <tr>\n",
       "      <th>1</th>\n",
       "      <td>1521</td>\n",
       "      <td>2179</td>\n",
       "    </tr>\n",
       "  </tbody>\n",
       "</table>\n",
       "</div>"
      ],
      "text/plain": [
       "Predicted     -1     1\n",
       "Actual                \n",
       "-1         10329  1031\n",
       " 1          1521  2179"
      ]
     },
     "execution_count": 10,
     "metadata": {},
     "output_type": "execute_result"
    }
   ],
   "source": [
    "confusion_matrix_error"
   ]
  },
  {
   "cell_type": "code",
   "execution_count": 11,
   "metadata": {
    "ExecuteTime": {
     "end_time": "2020-12-17T07:35:18.091104Z",
     "start_time": "2020-12-17T07:35:18.078465Z"
    }
   },
   "outputs": [],
   "source": [
    "corr_matrix_error = error.corr()"
   ]
  },
  {
   "cell_type": "code",
   "execution_count": 12,
   "metadata": {
    "ExecuteTime": {
     "end_time": "2020-12-17T07:35:18.764207Z",
     "start_time": "2020-12-17T07:35:18.093068Z"
    }
   },
   "outputs": [
    {
     "data": {
      "image/png": "[encoded data removed]",
      "text/plain": [
       "<Figure size 792x648 with 2 Axes>"
      ]
     },
     "metadata": {
      "needs_background": "light"
     },
     "output_type": "display_data"
    }
   ],
   "source": [
    "mask = np.triu(np.ones_like(corr_matrix_error, dtype=bool))\n",
    "\n",
    "# Matplotlib figure\n",
    "f, ax = plt.subplots(figsize=(11, 9))\n",
    "\n",
    "# Custom diverging colormap\n",
    "cmap = sns.diverging_palette(250, 15, center='light', as_cmap=True)\n",
    "\n",
    "# Heatmap with mask and aspect ratio\n",
    "sns.heatmap(corr_matrix_error,\n",
    "            mask=mask,\n",
    "            cmap=cmap,\n",
    "            vmax=.3,\n",
    "            center=0,\n",
    "            square=True,\n",
    "            linewidths=.5,\n",
    "            cbar_kws={\"shrink\": .5},\n",
    "            annot=True)\n",
    "\n",
    "save_path = os.path.join('output', 'correlation_misclassified.jpeg')\n",
    "plt.savefig(save_path)"
   ]
  },
  {
   "cell_type": "code",
   "execution_count": 13,
   "metadata": {
    "ExecuteTime": {
     "end_time": "2020-12-17T07:35:18.770571Z",
     "start_time": "2020-12-17T07:35:18.765691Z"
    }
   },
   "outputs": [],
   "source": [
    "corr_matrix_correct = correct.corr()"
   ]
  },
  {
   "cell_type": "code",
   "execution_count": 14,
   "metadata": {
    "ExecuteTime": {
     "end_time": "2020-12-17T07:35:19.421563Z",
     "start_time": "2020-12-17T07:35:18.772082Z"
    }
   },
   "outputs": [
    {
     "data": {
      "image/png": "[encoded data removed]",
      "text/plain": [
       "<Figure size 792x648 with 2 Axes>"
      ]
     },
     "metadata": {
      "needs_background": "light"
     },
     "output_type": "display_data"
    }
   ],
   "source": [
    "mask = np.triu(np.ones_like(corr_matrix_correct, dtype=bool))\n",
    "\n",
    "# Matplotlib figure\n",
    "f, ax = plt.subplots(figsize=(11, 9))\n",
    "\n",
    "# Custom diverging colormap\n",
    "cmap = sns.diverging_palette(250, 15, center='light', as_cmap=True)\n",
    "\n",
    "# Heatmap with the mask and correct aspect ratio\n",
    "sns.heatmap(corr_matrix_correct,\n",
    "            mask=mask,\n",
    "            cmap=cmap,\n",
    "            vmax=.3,\n",
    "            center=0,\n",
    "            square=True,\n",
    "            linewidths=.5,\n",
    "            cbar_kws={\"shrink\": .5},\n",
    "            annot=True)\n",
    "\n",
    "save_path = os.path.join('output', 'correlation_classified.jpeg')\n",
    "plt.savefig(save_path)"
   ]
  },
  {
   "cell_type": "code",
   "execution_count": 15,
   "metadata": {
    "ExecuteTime": {
     "end_time": "2020-12-17T07:35:19.452284Z",
     "start_time": "2020-12-17T07:35:19.423104Z"
    }
   },
   "outputs": [],
   "source": [
    "y_true = pr['Y']\n",
    "y_pred = pr['prediction_C_SVM']\n",
    "confusion_matrix = confusion_matrix(y_true, y_pred)"
   ]
  },
  {
   "cell_type": "code",
   "execution_count": 16,
   "metadata": {
    "ExecuteTime": {
     "end_time": "2020-12-17T07:35:19.707611Z",
     "start_time": "2020-12-17T07:35:19.454060Z"
    }
   },
   "outputs": [
    {
     "data": {
      "image/png": "[encoded data removed]",
      "text/plain": [
       "<Figure size 432x288 with 2 Axes>"
      ]
     },
     "metadata": {
      "needs_background": "light"
     },
     "output_type": "display_data"
    }
   ],
   "source": [
    "g = sns.heatmap(confusion_matrix, annot=True, fmt='g', cmap='mako')\n",
    "g.set_xticklabels(['Negative', 'Positive'], va='center')\n",
    "g.set_yticklabels(['Negative', 'Positive'], va='center')\n",
    "\n",
    "save_path = os.path.join('output', 'confusion_matrix.jpeg')\n",
    "plt.savefig(save_path)"
   ]
  },
  {
   "cell_type": "markdown",
   "metadata": {
    "ExecuteTime": {
     "end_time": "2020-12-16T23:57:38.122093Z",
     "start_time": "2020-12-16T23:57:38.118181Z"
    }
   },
   "source": [
    "## Data cleaning for Bokeh dashboard"
   ]
  },
  {
   "cell_type": "code",
   "execution_count": 17,
   "metadata": {
    "ExecuteTime": {
     "end_time": "2020-12-17T07:35:19.731080Z",
     "start_time": "2020-12-17T07:35:19.709100Z"
    }
   },
   "outputs": [],
   "source": [
    "plot1 = correct.groupby(pd.cut(correct[\"X1\"], np.arange(15, 90, 3))).size()\n",
    "plot11 = error.groupby(pd.cut(error[\"X1\"], np.arange(15, 90, 3))).size()"
   ]
  },
  {
   "cell_type": "code",
   "execution_count": 18,
   "metadata": {
    "ExecuteTime": {
     "end_time": "2020-12-17T07:35:19.752889Z",
     "start_time": "2020-12-17T07:35:19.732641Z"
    }
   },
   "outputs": [],
   "source": [
    "plot1 = plot1.to_frame()\n",
    "plot11 = plot11.to_frame()"
   ]
  },
  {
   "cell_type": "code",
   "execution_count": 19,
   "metadata": {
    "ExecuteTime": {
     "end_time": "2020-12-17T07:35:19.818435Z",
     "start_time": "2020-12-17T07:35:19.754368Z"
    }
   },
   "outputs": [],
   "source": [
    "plot1 = plot1.reset_index()\n",
    "plot11 = plot11.reset_index()"
   ]
  },
  {
   "cell_type": "code",
   "execution_count": 20,
   "metadata": {
    "ExecuteTime": {
     "end_time": "2020-12-17T07:35:19.870104Z",
     "start_time": "2020-12-17T07:35:19.821075Z"
    }
   },
   "outputs": [],
   "source": [
    "plot1 = plot1.reset_index()\n",
    "plot11 = plot11.reset_index()"
   ]
  },
  {
   "cell_type": "code",
   "execution_count": 21,
   "metadata": {
    "ExecuteTime": {
     "end_time": "2020-12-17T07:35:19.926229Z",
     "start_time": "2020-12-17T07:35:19.871461Z"
    }
   },
   "outputs": [],
   "source": [
    "plot1 = plot1.rename(columns={\"X1\": \"Range\", 0: \"Count\"})\n",
    "plot11 = plot11.rename(columns={\"X1\": \"Range\", 0: \"Count\"})"
   ]
  },
  {
   "cell_type": "code",
   "execution_count": 22,
   "metadata": {
    "ExecuteTime": {
     "end_time": "2020-12-17T07:35:20.008729Z",
     "start_time": "2020-12-17T07:35:19.927717Z"
    }
   },
   "outputs": [],
   "source": [
    "plot2 = correct.groupby(pd.cut(correct[\"X3\"], np.arange(13492, 1490400,\n",
    "                                                        10000))).size()\n",
    "plot22 = error.groupby(pd.cut(error[\"X3\"], np.arange(13492, 1490400,\n",
    "                                                     10000))).size()"
   ]
  },
  {
   "cell_type": "code",
   "execution_count": 23,
   "metadata": {
    "ExecuteTime": {
     "end_time": "2020-12-17T07:35:20.017915Z",
     "start_time": "2020-12-17T07:35:20.014848Z"
    }
   },
   "outputs": [],
   "source": [
    "plot2 = plot2.to_frame()\n",
    "plot22 = plot22.to_frame()"
   ]
  },
  {
   "cell_type": "code",
   "execution_count": 24,
   "metadata": {
    "ExecuteTime": {
     "end_time": "2020-12-17T07:35:20.070193Z",
     "start_time": "2020-12-17T07:35:20.021002Z"
    }
   },
   "outputs": [],
   "source": [
    "plot2 = plot2.reset_index()\n",
    "plot22 = plot22.reset_index()"
   ]
  },
  {
   "cell_type": "code",
   "execution_count": 25,
   "metadata": {
    "ExecuteTime": {
     "end_time": "2020-12-17T07:35:20.114613Z",
     "start_time": "2020-12-17T07:35:20.071814Z"
    }
   },
   "outputs": [],
   "source": [
    "plot2 = plot2.reset_index()\n",
    "plot22 = plot22.reset_index()"
   ]
  },
  {
   "cell_type": "code",
   "execution_count": 26,
   "metadata": {
    "ExecuteTime": {
     "end_time": "2020-12-17T07:35:20.162426Z",
     "start_time": "2020-12-17T07:35:20.116196Z"
    }
   },
   "outputs": [],
   "source": [
    "plot2 = plot2.rename(columns={\"X3\": \"Range\", 0: \"Count\"})\n",
    "plot22 = plot22.rename(columns={\"X3\": \"Range\", 0: \"Count\"})"
   ]
  },
  {
   "cell_type": "code",
   "execution_count": 27,
   "metadata": {
    "ExecuteTime": {
     "end_time": "2020-12-17T07:35:20.217565Z",
     "start_time": "2020-12-17T07:35:20.163927Z"
    }
   },
   "outputs": [],
   "source": [
    "plot3 = correct.groupby([\"X5\"]).size()\n",
    "plot33 = error.groupby([\"X5\"]).size()"
   ]
  },
  {
   "cell_type": "code",
   "execution_count": 28,
   "metadata": {
    "ExecuteTime": {
     "end_time": "2020-12-17T07:35:20.259043Z",
     "start_time": "2020-12-17T07:35:20.219129Z"
    }
   },
   "outputs": [],
   "source": [
    "plot3 = plot3.to_frame()\n",
    "plot33 = plot33.to_frame()"
   ]
  },
  {
   "cell_type": "code",
   "execution_count": 29,
   "metadata": {
    "ExecuteTime": {
     "end_time": "2020-12-17T07:35:20.305753Z",
     "start_time": "2020-12-17T07:35:20.260391Z"
    }
   },
   "outputs": [],
   "source": [
    "plot3 = plot3.reset_index()\n",
    "plot33 = plot33.reset_index()"
   ]
  },
  {
   "cell_type": "code",
   "execution_count": 30,
   "metadata": {
    "ExecuteTime": {
     "end_time": "2020-12-17T07:35:20.341570Z",
     "start_time": "2020-12-17T07:35:20.308106Z"
    }
   },
   "outputs": [],
   "source": [
    "plot3 = plot3.reset_index()\n",
    "plot33 = plot33.reset_index()"
   ]
  },
  {
   "cell_type": "code",
   "execution_count": 31,
   "metadata": {
    "ExecuteTime": {
     "end_time": "2020-12-17T07:35:20.386942Z",
     "start_time": "2020-12-17T07:35:20.342830Z"
    }
   },
   "outputs": [],
   "source": [
    "plot3 = plot3.rename(columns={\"X5\": \"Range\", 0: \"Count\"})\n",
    "plot33 = plot33.rename(columns={\"X5\": \"Range\", 0: \"Count\"})"
   ]
  },
  {
   "cell_type": "code",
   "execution_count": 32,
   "metadata": {
    "ExecuteTime": {
     "end_time": "2020-12-17T07:35:20.455867Z",
     "start_time": "2020-12-17T07:35:20.388438Z"
    }
   },
   "outputs": [],
   "source": [
    "plot4 = correct.groupby(pd.cut(correct[\"X11\"], np.arange(0, 99999,\n",
    "                                                         10000))).size()\n",
    "plot44 = error.groupby(pd.cut(error[\"X11\"], np.arange(0, 99999, 10000))).size()"
   ]
  },
  {
   "cell_type": "code",
   "execution_count": 33,
   "metadata": {
    "ExecuteTime": {
     "end_time": "2020-12-17T07:35:20.501847Z",
     "start_time": "2020-12-17T07:35:20.457511Z"
    }
   },
   "outputs": [],
   "source": [
    "plot4 = plot4.to_frame()\n",
    "plot44 = plot44.to_frame()"
   ]
  },
  {
   "cell_type": "code",
   "execution_count": 34,
   "metadata": {
    "ExecuteTime": {
     "end_time": "2020-12-17T07:35:20.556857Z",
     "start_time": "2020-12-17T07:35:20.503553Z"
    }
   },
   "outputs": [],
   "source": [
    "plot4 = plot4.reset_index()\n",
    "plot44 = plot44.reset_index()"
   ]
  },
  {
   "cell_type": "code",
   "execution_count": 35,
   "metadata": {
    "ExecuteTime": {
     "end_time": "2020-12-17T07:35:20.613486Z",
     "start_time": "2020-12-17T07:35:20.558028Z"
    }
   },
   "outputs": [],
   "source": [
    "plot4 = plot4.reset_index()\n",
    "plot44 = plot44.reset_index()"
   ]
  },
  {
   "cell_type": "code",
   "execution_count": 36,
   "metadata": {
    "ExecuteTime": {
     "end_time": "2020-12-17T07:35:20.671443Z",
     "start_time": "2020-12-17T07:35:20.615385Z"
    }
   },
   "outputs": [],
   "source": [
    "plot4 = plot4.rename(columns={\"X5\": \"Range\", 0: \"Count\"})\n",
    "plot44 = plot44.rename(columns={\"X5\": \"Range\", 0: \"Count\"})"
   ]
  },
  {
   "cell_type": "code",
   "execution_count": 37,
   "metadata": {
    "ExecuteTime": {
     "end_time": "2020-12-17T07:35:20.738792Z",
     "start_time": "2020-12-17T07:35:20.672747Z"
    }
   },
   "outputs": [],
   "source": [
    "plot5 = correct.groupby(pd.cut(correct[\"X12\"], np.arange(0, 3770, 500))).size()\n",
    "plot55 = error.groupby(pd.cut(error[\"X12\"], np.arange(0, 3770, 500))).size()"
   ]
  },
  {
   "cell_type": "code",
   "execution_count": 38,
   "metadata": {
    "ExecuteTime": {
     "end_time": "2020-12-17T07:35:20.789982Z",
     "start_time": "2020-12-17T07:35:20.740307Z"
    }
   },
   "outputs": [],
   "source": [
    "plot5 = plot5.to_frame()\n",
    "plot55 = plot55.to_frame()"
   ]
  },
  {
   "cell_type": "code",
   "execution_count": 39,
   "metadata": {
    "ExecuteTime": {
     "end_time": "2020-12-17T07:35:20.842261Z",
     "start_time": "2020-12-17T07:35:20.791393Z"
    }
   },
   "outputs": [],
   "source": [
    "plot5 = plot5.reset_index()\n",
    "plot55 = plot55.reset_index()"
   ]
  },
  {
   "cell_type": "code",
   "execution_count": 40,
   "metadata": {
    "ExecuteTime": {
     "end_time": "2020-12-17T07:35:20.888606Z",
     "start_time": "2020-12-17T07:35:20.843792Z"
    }
   },
   "outputs": [],
   "source": [
    "plot5 = plot5.reset_index()\n",
    "plot55 = plot55.reset_index()"
   ]
  },
  {
   "cell_type": "code",
   "execution_count": 41,
   "metadata": {
    "ExecuteTime": {
     "end_time": "2020-12-17T07:35:20.947644Z",
     "start_time": "2020-12-17T07:35:20.890051Z"
    }
   },
   "outputs": [],
   "source": [
    "plot5 = plot5.rename(columns={\"X12\": \"Range\", 0: \"Count\"})\n",
    "plot55 = plot55.rename(columns={\"X12\": \"Range\", 0: \"Count\"})"
   ]
  },
  {
   "cell_type": "code",
   "execution_count": 42,
   "metadata": {
    "ExecuteTime": {
     "end_time": "2020-12-17T07:35:20.999378Z",
     "start_time": "2020-12-17T07:35:20.948970Z"
    }
   },
   "outputs": [],
   "source": [
    "plot6 = correct.groupby(pd.cut(correct[\"X13\"], np.arange(0, 99, 10))).size()\n",
    "plot66 = error.groupby(pd.cut(error[\"X13\"], np.arange(0, 99, 10))).size()"
   ]
  },
  {
   "cell_type": "code",
   "execution_count": 43,
   "metadata": {
    "ExecuteTime": {
     "end_time": "2020-12-17T07:35:21.043782Z",
     "start_time": "2020-12-17T07:35:21.000742Z"
    }
   },
   "outputs": [],
   "source": [
    "plot6 = plot6.to_frame()\n",
    "plot66 = plot66.to_frame()"
   ]
  },
  {
   "cell_type": "code",
   "execution_count": 44,
   "metadata": {
    "ExecuteTime": {
     "end_time": "2020-12-17T07:35:21.107767Z",
     "start_time": "2020-12-17T07:35:21.045347Z"
    }
   },
   "outputs": [],
   "source": [
    "plot6 = plot6.reset_index()\n",
    "plot66 = plot66.reset_index()"
   ]
  },
  {
   "cell_type": "code",
   "execution_count": 45,
   "metadata": {
    "ExecuteTime": {
     "end_time": "2020-12-17T07:35:21.156304Z",
     "start_time": "2020-12-17T07:35:21.109146Z"
    }
   },
   "outputs": [],
   "source": [
    "plot6 = plot6.reset_index()\n",
    "plot66 = plot66.reset_index()"
   ]
  },
  {
   "cell_type": "code",
   "execution_count": 46,
   "metadata": {
    "ExecuteTime": {
     "end_time": "2020-12-17T07:35:21.212181Z",
     "start_time": "2020-12-17T07:35:21.157767Z"
    }
   },
   "outputs": [],
   "source": [
    "plot6 = plot6.rename(columns={\"X13\": \"Range\", 0: \"Count\"})\n",
    "plot66 = plot66.rename(columns={\"X13\": \"Range\", 0: \"Count\"})"
   ]
  },
  {
   "cell_type": "code",
   "execution_count": 47,
   "metadata": {
    "ExecuteTime": {
     "end_time": "2020-12-17T07:35:21.271681Z",
     "start_time": "2020-12-17T07:35:21.213568Z"
    }
   },
   "outputs": [],
   "source": [
    "plot7 = pr.groupby(['X2', 'result'])[['result']].count()"
   ]
  },
  {
   "cell_type": "markdown",
   "metadata": {},
   "source": [
    "## Continuous Variables"
   ]
  },
  {
   "cell_type": "markdown",
   "metadata": {},
   "source": [
    "### First figure - Age"
   ]
  },
  {
   "cell_type": "code",
   "execution_count": 48,
   "metadata": {
    "ExecuteTime": {
     "end_time": "2020-12-17T07:35:21.366828Z",
     "start_time": "2020-12-17T07:35:21.273194Z"
    }
   },
   "outputs": [],
   "source": [
    "# Visualising the Bokeh figure\n",
    "p = figure(plot_width=500, plot_height=250, background_fill_color=\"#fafafa\")\n",
    "p.circle(plot1['index'],\n",
    "         plot1['Count'],\n",
    "         line_width=2,\n",
    "         color='olivedrab',\n",
    "         alpha=0.8,\n",
    "         muted_color='White',\n",
    "         muted_alpha=0.2,\n",
    "         legend_label='Classified')\n",
    "p.line(plot1['index'],\n",
    "       plot1['Count'],\n",
    "       line_width=2,\n",
    "       color='olivedrab',\n",
    "       alpha=0.4,\n",
    "       muted_color='White',\n",
    "       muted_alpha=0.2,\n",
    "       legend_label='Classified')\n",
    "p.circle(plot11['index'],\n",
    "         plot11['Count'],\n",
    "         line_width=2,\n",
    "         color='firebrick',\n",
    "         alpha=0.8,\n",
    "         muted_color='White',\n",
    "         muted_alpha=0.2,\n",
    "         legend_label='Misclassified')\n",
    "p.line(plot11['index'],\n",
    "       plot11['Count'],\n",
    "       line_width=2,\n",
    "       color='firebrick',\n",
    "       muted_color='White',\n",
    "       alpha=0.4,\n",
    "       legend_label='Misclassified')\n",
    "\n",
    "# Legend properties\n",
    "p.legend.location = \"top_right\"\n",
    "p.legend.click_policy = \"hide\"\n",
    "\n",
    "# Label and ticks\n",
    "p.xaxis.axis_label = 'Age'\n",
    "p.yaxis.axis_label = 'Count'\n",
    "p.xaxis.ticker = [0, 5, 10, 15, 20, 25]\n",
    "p.xaxis.major_label_overrides = {\n",
    "    0: '15',\n",
    "    5: '30',\n",
    "    10: '45',\n",
    "    15: '60',\n",
    "    20: '75',\n",
    "    25: '90'\n",
    "}\n",
    "p.title.text = 'Click on legend entries to hide the corresponding lines'"
   ]
  },
  {
   "cell_type": "markdown",
   "metadata": {},
   "source": [
    "###  Second figure  - Final Weight"
   ]
  },
  {
   "cell_type": "code",
   "execution_count": 49,
   "metadata": {
    "ExecuteTime": {
     "end_time": "2020-12-17T07:35:21.421963Z",
     "start_time": "2020-12-17T07:35:21.368325Z"
    }
   },
   "outputs": [],
   "source": [
    "# Visualising the Bokeh figure\n",
    "p2 = figure(plot_width=500, plot_height=250, background_fill_color=\"#fafafa\")\n",
    "p2.circle(plot2['index'],\n",
    "          plot2['Count'],\n",
    "          line_width=1,\n",
    "          color='olivedrab',\n",
    "          alpha=0.8,\n",
    "          muted_color='White',\n",
    "          muted_alpha=0.2,\n",
    "          legend_label='Classified')\n",
    "p2.circle(plot22['index'],\n",
    "          plot22['Count'],\n",
    "          line_width=1,\n",
    "          color='firebrick',\n",
    "          alpha=0.8,\n",
    "          muted_color='White',\n",
    "          muted_alpha=0.2,\n",
    "          legend_label='Misclassified')\n",
    "\n",
    "# Legend properties\n",
    "p2.legend.location = \"top_right\"\n",
    "p2.legend.click_policy = \"hide\"\n",
    "\n",
    "# Label and ticks\n",
    "p2.xaxis.axis_label = 'Final Weight'\n",
    "p2.xaxis.ticker = [0, 20, 40, 60, 80, 100, 120, 140]\n",
    "p2.xaxis.major_label_overrides = {\n",
    "    0: '10000',\n",
    "    20: '20000',\n",
    "    40: '40000',\n",
    "    60: '60000',\n",
    "    80: '80000',\n",
    "    100: '1000000',\n",
    "    120: '1200000',\n",
    "    140: '1400000'\n",
    "}\n",
    "p2.yaxis.axis_label = 'Count'"
   ]
  },
  {
   "cell_type": "markdown",
   "metadata": {},
   "source": [
    "### Third figure - Education Number"
   ]
  },
  {
   "cell_type": "code",
   "execution_count": 50,
   "metadata": {
    "ExecuteTime": {
     "end_time": "2020-12-17T07:35:21.506393Z",
     "start_time": "2020-12-17T07:35:21.423578Z"
    }
   },
   "outputs": [],
   "source": [
    "# Visualising the Bokeh figure\n",
    "p3 = figure(plot_width=500, plot_height=250, background_fill_color=\"#fafafa\")\n",
    "p3.circle(plot3['index'],\n",
    "          plot3['Count'],\n",
    "          line_width=1,\n",
    "          color='olivedrab',\n",
    "          alpha=0.8,\n",
    "          muted_color='White',\n",
    "          muted_alpha=0.2,\n",
    "          legend_label='Classified')\n",
    "p3.circle(plot33['index'],\n",
    "          plot33['Count'],\n",
    "          line_width=1,\n",
    "          color='firebrick',\n",
    "          alpha=0.8,\n",
    "          muted_color='White',\n",
    "          muted_alpha=0.2,\n",
    "          legend_label='Misclassified')\n",
    "p3.line(plot3['index'],\n",
    "        plot3['Count'],\n",
    "        line_width=2,\n",
    "        color='olivedrab',\n",
    "        alpha=0.4,\n",
    "        muted_color='White',\n",
    "        muted_alpha=0.2,\n",
    "        legend_label='Classified')\n",
    "p3.line(plot33['index'],\n",
    "        plot33['Count'],\n",
    "        line_width=2,\n",
    "        color='firebrick',\n",
    "        alpha=0.4,\n",
    "        muted_color='White',\n",
    "        muted_alpha=0.2,\n",
    "        legend_label='Misclassified')\n",
    "\n",
    "# Labels\n",
    "p3.xaxis.axis_label = 'Education Number'\n",
    "p3.yaxis.axis_label = 'Count'\n",
    "\n",
    "# Legend properties\n",
    "p3.legend.location = \"top_right\"\n",
    "p3.legend.click_policy = \"hide\""
   ]
  },
  {
   "cell_type": "markdown",
   "metadata": {},
   "source": [
    "### Fourth figure - Capital Gain"
   ]
  },
  {
   "cell_type": "code",
   "execution_count": 51,
   "metadata": {
    "ExecuteTime": {
     "end_time": "2020-12-17T07:35:21.560556Z",
     "start_time": "2020-12-17T07:35:21.507915Z"
    }
   },
   "outputs": [],
   "source": [
    "# Visualising the Bokeh figure\n",
    "p4 = figure(plot_width=500, plot_height=250, background_fill_color=\"#fafafa\")\n",
    "p4.circle(plot4['index'],\n",
    "          plot4['Count'],\n",
    "          line_width=1,\n",
    "          color='olivedrab',\n",
    "          alpha=0.8,\n",
    "          muted_color='White',\n",
    "          muted_alpha=0.2,\n",
    "          legend_label='Classified')\n",
    "p4.circle(plot44['index'],\n",
    "          plot44['Count'],\n",
    "          line_width=1,\n",
    "          color='firebrick',\n",
    "          alpha=0.8,\n",
    "          muted_color='White',\n",
    "          muted_alpha=0.2,\n",
    "          legend_label='Misclassified')\n",
    "p4.line(plot4['index'],\n",
    "        plot4['Count'],\n",
    "        line_width=2,\n",
    "        color='olivedrab',\n",
    "        alpha=0.4,\n",
    "        muted_color='White',\n",
    "        muted_alpha=0.2,\n",
    "        legend_label='Classified')\n",
    "p4.line(plot44['index'],\n",
    "        plot44['Count'],\n",
    "        line_width=2,\n",
    "        color='firebrick',\n",
    "        alpha=0.4,\n",
    "        muted_color='White',\n",
    "        muted_alpha=0.2,\n",
    "        legend_label='Misclassified')\n",
    "\n",
    "# Labels and ticks\n",
    "p4.xaxis.axis_label = 'Capital Gain'\n",
    "p4.xaxis.ticker = [0, 2, 4, 6, 8]\n",
    "p4.xaxis.major_label_overrides = {\n",
    "    0: '10000',\n",
    "    2: '20000',\n",
    "    4: '40000',\n",
    "    6: '60000',\n",
    "    8: '80000',\n",
    "    10: '100000'\n",
    "}\n",
    "p4.yaxis.axis_label = 'Count'\n",
    "\n",
    "# Legend properties\n",
    "p4.legend.location = \"top_right\"\n",
    "p4.legend.click_policy = \"hide\""
   ]
  },
  {
   "cell_type": "markdown",
   "metadata": {},
   "source": [
    "### Fifth figure - Capital Loss"
   ]
  },
  {
   "cell_type": "code",
   "execution_count": 52,
   "metadata": {
    "ExecuteTime": {
     "end_time": "2020-12-17T07:35:21.652790Z",
     "start_time": "2020-12-17T07:35:21.562065Z"
    }
   },
   "outputs": [],
   "source": [
    "# Visualising the Bokeh figure\n",
    "p5 = figure(plot_width=500, plot_height=250, background_fill_color=\"#fafafa\")\n",
    "p5.circle(plot5['index'],\n",
    "          plot5['Count'],\n",
    "          line_width=1,\n",
    "          color='olivedrab',\n",
    "          alpha=0.8,\n",
    "          muted_color='White',\n",
    "          muted_alpha=0.2,\n",
    "          legend_label='Classified')\n",
    "p5.circle(plot55['index'],\n",
    "          plot55['Count'],\n",
    "          line_width=1,\n",
    "          color='firebrick',\n",
    "          alpha=0.8,\n",
    "          muted_color='White',\n",
    "          muted_alpha=0.2,\n",
    "          legend_label='Misclassified')\n",
    "p5.line(plot5['index'],\n",
    "        plot5['Count'],\n",
    "        line_width=2,\n",
    "        color='olivedrab',\n",
    "        alpha=0.4,\n",
    "        muted_color='White',\n",
    "        muted_alpha=0.2,\n",
    "        legend_label='Classified')\n",
    "p5.line(plot55['index'],\n",
    "        plot55['Count'],\n",
    "        line_width=2,\n",
    "        color='firebrick',\n",
    "        alpha=0.4,\n",
    "        muted_color='White',\n",
    "        muted_alpha=0.2,\n",
    "        legend_label='Misclassified')\n",
    "\n",
    "# Labels and ticks\n",
    "p5.xaxis.axis_label = 'Capital Loss'\n",
    "p5.xaxis.ticker = [0, 1, 2, 3, 4, 5, 6]\n",
    "p5.xaxis.major_label_overrides = {\n",
    "    0: '500',\n",
    "    1: '1000',\n",
    "    2: '1500',\n",
    "    3: '2000',\n",
    "    4: '2500',\n",
    "    5: '3000',\n",
    "    6: '3500'\n",
    "}\n",
    "p5.yaxis.axis_label = 'Count'\n",
    "\n",
    "# Legend properties\n",
    "p5.legend.location = \"top_right\"\n",
    "p5.legend.click_policy = \"hide\""
   ]
  },
  {
   "cell_type": "markdown",
   "metadata": {},
   "source": [
    "### Sixth figure - Hours per week"
   ]
  },
  {
   "cell_type": "code",
   "execution_count": 53,
   "metadata": {
    "ExecuteTime": {
     "end_time": "2020-12-17T07:35:21.729428Z",
     "start_time": "2020-12-17T07:35:21.654219Z"
    }
   },
   "outputs": [],
   "source": [
    "# Visualising the Bokeh figure\n",
    "p6 = figure(plot_width=500, plot_height=250, background_fill_color=\"#fafafa\")\n",
    "p6.circle(plot6['index'],\n",
    "          plot6['Count'],\n",
    "          line_width=2,\n",
    "          color='olivedrab',\n",
    "          alpha=0.8,\n",
    "          muted_color='White',\n",
    "          muted_alpha=0.2,\n",
    "          legend_label='Classified')\n",
    "p6.circle(plot66['index'],\n",
    "          plot66['Count'],\n",
    "          line_width=2,\n",
    "          color='firebrick',\n",
    "          alpha=0.8,\n",
    "          muted_color='White',\n",
    "          muted_alpha=0.2,\n",
    "          legend_label='Misclassified')\n",
    "p6.line(plot6['index'],\n",
    "        plot6['Count'],\n",
    "        line_width=2,\n",
    "        color='olivedrab',\n",
    "        alpha=0.4,\n",
    "        muted_color='White',\n",
    "        muted_alpha=0.2,\n",
    "        legend_label='Classified')\n",
    "p6.line(plot66['index'],\n",
    "        plot66['Count'],\n",
    "        line_width=2,\n",
    "        color='firebrick',\n",
    "        alpha=0.4,\n",
    "        muted_color='White',\n",
    "        muted_alpha=0.2,\n",
    "        legend_label='Misclassified')\n",
    "\n",
    "# Labels and ticks\n",
    "p6.xaxis.axis_label = 'Hours/ Week'\n",
    "p6.xaxis.ticker = [0, 2, 4, 6, 8]\n",
    "p6.xaxis.major_label_overrides = {\n",
    "    0: '10',\n",
    "    2: '20',\n",
    "    4: '40',\n",
    "    6: '60',\n",
    "    8: '80',\n",
    "    10: '100'\n",
    "}\n",
    "p6.yaxis.axis_label = 'Count'\n",
    "\n",
    "# Legend properties\n",
    "p6.legend.location = \"top_right\"\n",
    "p6.legend.click_policy = \"hide\""
   ]
  },
  {
   "cell_type": "markdown",
   "metadata": {},
   "source": [
    "## Categorical Variables "
   ]
  },
  {
   "cell_type": "markdown",
   "metadata": {
    "ExecuteTime": {
     "end_time": "2020-12-17T00:16:39.250376Z",
     "start_time": "2020-12-17T00:16:39.245771Z"
    }
   },
   "source": [
    "### First figure - Work Class "
   ]
  },
  {
   "cell_type": "code",
   "execution_count": 54,
   "metadata": {
    "ExecuteTime": {
     "end_time": "2020-12-17T07:35:21.794974Z",
     "start_time": "2020-12-17T07:35:21.731062Z"
    }
   },
   "outputs": [],
   "source": [
    "categories = [\n",
    "    'Federal-gov', 'Local-gov', 'Private', 'Self-emp-inc', 'Self-emp-not-inc',\n",
    "    'State-gov', 'Without-pay'\n",
    "]\n",
    "category = ['Classified', 'Misclassified']\n",
    "\n",
    "data = {\n",
    "    'categories': categories,\n",
    "    'Classified': [363, 811, 9352, 419, 1022, 536, 5],\n",
    "    'Misclassified': [100, 222, 1669, 153, 275, 131, 2]\n",
    "}\n",
    "\n",
    "tools1 = [BoxZoomTool(), PanTool(), ResetTool()]\n",
    "\n",
    "source = ColumnDataSource(data=data)\n",
    "\n",
    "# Visualizing the figure\n",
    "p7 = figure(x_range=categories,\n",
    "            y_range=(0, 10000),\n",
    "            plot_height=250,\n",
    "            plot_width=500,\n",
    "            title=\"Work Class Categories\",\n",
    "            tools=tools1)\n",
    "p7.vbar(x=dodge('categories', -0.25, range=p7.x_range),\n",
    "        width=0.4,\n",
    "        top='Classified',\n",
    "        color=\"olivedrab\",\n",
    "        alpha=0.6,\n",
    "        legend_label='Classified',\n",
    "        line_color='white',\n",
    "        source=source)\n",
    "p7.vbar(x=dodge('categories', 0.25, range=p7.x_range),\n",
    "        width=0.4,\n",
    "        top='Misclassified',\n",
    "        legend_label='Misclassified',\n",
    "        color=\"firebrick\",\n",
    "        alpha=0.6,\n",
    "        line_color='white',\n",
    "        source=source)\n",
    "\n",
    "p7.x_range.range_padding = 0.1\n",
    "p7.xgrid.grid_line_color = None\n",
    "p7.xaxis.major_label_orientation = 0.3\n",
    "\n",
    "# Hover Tool\n",
    "hover1 = HoverTool(\n",
    "    tooltips=[('Classified',\n",
    "               '@Classified'), ('Misclassified',\n",
    "                                '@Misclassified'), ('Work Class',\n",
    "                                                    '@categories')])\n",
    "p7.add_tools(hover1)\n",
    "\n",
    "# Legend properties\n",
    "p7.legend.location = \"top_right\"\n",
    "p7.legend.orientation = \"vertical\"\n",
    "p7.legend.click_policy = \"hide\""
   ]
  },
  {
   "cell_type": "code",
   "execution_count": 55,
   "metadata": {
    "ExecuteTime": {
     "end_time": "2020-12-17T07:35:21.852380Z",
     "start_time": "2020-12-17T07:35:21.796389Z"
    }
   },
   "outputs": [],
   "source": [
    "plot8 = pr.groupby(['X10', 'result'])[['result']].count()"
   ]
  },
  {
   "cell_type": "markdown",
   "metadata": {},
   "source": [
    "### Second figure - Gender "
   ]
  },
  {
   "cell_type": "code",
   "execution_count": 56,
   "metadata": {
    "ExecuteTime": {
     "end_time": "2020-12-17T07:35:21.934413Z",
     "start_time": "2020-12-17T07:35:21.853821Z"
    }
   },
   "outputs": [],
   "source": [
    "sex = ['Female', 'Male']\n",
    "category = ['Classified', 'Misclassified']\n",
    "\n",
    "data = {'sex': sex, 'Classified': [4468, 8040], 'Misclassified': [445, 2107]}\n",
    "\n",
    "tools2 = [BoxZoomTool(), PanTool(), ResetTool()]\n",
    "\n",
    "source = ColumnDataSource(data=data)\n",
    "\n",
    "# Visualizing the figure\n",
    "p8 = figure(x_range=sex,\n",
    "            y_range=(0, 8100),\n",
    "            plot_height=250,\n",
    "            plot_width=500,\n",
    "            title=\"Sex of individuals\",\n",
    "            tools=tools2)\n",
    "\n",
    "p8.vbar(x=dodge('sex', -0.25, range=p8.x_range),\n",
    "        width=0.4,\n",
    "        top='Classified',\n",
    "        color=\"olivedrab\",\n",
    "        alpha=0.6,\n",
    "        legend_label='Classified',\n",
    "        source=source)\n",
    "p8.vbar(x=dodge('sex', 0.25, range=p8.x_range),\n",
    "        width=0.4,\n",
    "        top='Misclassified',\n",
    "        legend_label='Misclassified',\n",
    "        color=\"firebrick\",\n",
    "        alpha=0.6,\n",
    "        source=source)\n",
    "\n",
    "p8.x_range.range_padding = 0.1\n",
    "p8.xgrid.grid_line_color = None\n",
    "p8.xaxis.major_label_orientation = 0.3\n",
    "\n",
    "# Hover tool\n",
    "hover2 = HoverTool(\n",
    "    tooltips=[('Classified', '@Classified'), ('Misclassified',\n",
    "                                              '@Misclassified'), ('Sex',\n",
    "                                                                  '@sex')])\n",
    "p8.add_tools(hover2)\n",
    "\n",
    "# Legend properties\n",
    "p8.legend.location = \"top_right\"\n",
    "p8.legend.click_policy = \"hide\"\n",
    "p8.legend.orientation = \"vertical\""
   ]
  },
  {
   "cell_type": "code",
   "execution_count": 57,
   "metadata": {
    "ExecuteTime": {
     "end_time": "2020-12-17T07:35:21.992900Z",
     "start_time": "2020-12-17T07:35:21.935887Z"
    }
   },
   "outputs": [],
   "source": [
    "plot9 = pr.groupby(['X6', 'result'])[['result']].count()"
   ]
  },
  {
   "cell_type": "markdown",
   "metadata": {},
   "source": [
    "### Third figure - Marital Status"
   ]
  },
  {
   "cell_type": "code",
   "execution_count": 58,
   "metadata": {
    "ExecuteTime": {
     "end_time": "2020-12-17T07:35:22.066305Z",
     "start_time": "2020-12-17T07:35:21.994275Z"
    }
   },
   "outputs": [],
   "source": [
    "status = ['Divorced', 'Married', 'Never-married', 'Seperated', 'Widowed']\n",
    "category = ['Classified', 'Misclassified']\n",
    "\n",
    "data = {\n",
    "    'status': status,\n",
    "    'Classified': [1879, 5143, 4641, 437, 408],\n",
    "    'Misclassified': [204, 2040, 231, 35, 42]\n",
    "}\n",
    "\n",
    "tools3 = [BoxZoomTool(), PanTool(), ResetTool()]\n",
    "\n",
    "source = ColumnDataSource(data=data)\n",
    "\n",
    "# Visualizing the figure\n",
    "p9 = figure(x_range=status,\n",
    "            y_range=(0, 5200),\n",
    "            plot_height=250,\n",
    "            plot_width=500,\n",
    "            title=\"Marital Status of individuals\",\n",
    "            tools=tools3)\n",
    "\n",
    "p9.vbar(x=dodge('status', -0.25, range=p9.x_range),\n",
    "        width=0.4,\n",
    "        top='Classified',\n",
    "        color=\"olivedrab\",\n",
    "        alpha=0.6,\n",
    "        legend_label='Classified',\n",
    "        line_color='white',\n",
    "        source=source)\n",
    "p9.vbar(x=dodge('status', 0.25, range=p9.x_range),\n",
    "        width=0.4,\n",
    "        top='Misclassified',\n",
    "        legend_label='Misclassified',\n",
    "        alpha=0.6,\n",
    "        color=\"firebrick\",\n",
    "        line_color='white',\n",
    "        source=source)\n",
    "\n",
    "p9.x_range.range_padding = 0.1\n",
    "p9.xgrid.grid_line_color = None\n",
    "p9.xaxis.major_label_orientation = 0.3\n",
    "\n",
    "# Hover tool\n",
    "hover3 = HoverTool(\n",
    "    tooltips=[('Classified',\n",
    "               '@Classified'), ('Misclassified',\n",
    "                                '@Misclassified'), ('Status', '@status')])\n",
    "\n",
    "p9.add_tools(hover3)\n",
    "\n",
    "# Legend properties\n",
    "p9.legend.location = \"top_right\"\n",
    "p9.legend.orientation = \"vertical\"\n",
    "p9.legend.click_policy = \"hide\""
   ]
  },
  {
   "cell_type": "code",
   "execution_count": 59,
   "metadata": {
    "ExecuteTime": {
     "end_time": "2020-12-17T07:35:22.119433Z",
     "start_time": "2020-12-17T07:35:22.067747Z"
    }
   },
   "outputs": [],
   "source": [
    "plot10 = pr.groupby(['X10', 'result'])[['result']].count()"
   ]
  },
  {
   "cell_type": "markdown",
   "metadata": {
    "ExecuteTime": {
     "end_time": "2020-12-17T00:04:17.293675Z",
     "start_time": "2020-12-17T00:04:17.291154Z"
    }
   },
   "source": [
    "### Fourth figure - Race"
   ]
  },
  {
   "cell_type": "code",
   "execution_count": 60,
   "metadata": {
    "ExecuteTime": {
     "end_time": "2020-12-17T07:35:22.168508Z",
     "start_time": "2020-12-17T07:35:22.120875Z"
    }
   },
   "outputs": [],
   "source": [
    "races = ['Amer-Indian-Eskimo', 'Asian-Pac-Islander', 'Black', 'Other', 'White']\n",
    "category = ['Classified', 'Misclassified']\n",
    "\n",
    "data = {\n",
    "    'races': races,\n",
    "    'Classified': [129, 330, 1269, 100, 10680],\n",
    "    'Misclassified': [20, 78, 142, 22, 2290]\n",
    "}\n",
    "\n",
    "tools4 = [BoxZoomTool(), PanTool(), ResetTool()]\n",
    "\n",
    "source = ColumnDataSource(data=data)\n",
    "\n",
    "# Visualizing the figure\n",
    "p10 = figure(x_range=races,\n",
    "             y_range=(0, 10700),\n",
    "             plot_height=250,\n",
    "             plot_width=500,\n",
    "             title=\"Race of individuals\",\n",
    "             tools=tools4)\n",
    "p10.vbar(x=dodge('races', -0.25, range=p10.x_range),\n",
    "         width=0.4,\n",
    "         top='Classified',\n",
    "         color=\"olivedrab\",\n",
    "         alpha=0.6,\n",
    "         legend_label='Classified',\n",
    "         line_color='white',\n",
    "         source=source)\n",
    "p10.vbar(x=dodge('races', 0.25, range=p10.x_range),\n",
    "         width=0.4,\n",
    "         top='Misclassified',\n",
    "         legend_label='Misclassified',\n",
    "         alpha=0.6,\n",
    "         color=\"firebrick\",\n",
    "         line_color='white',\n",
    "         source=source)\n",
    "\n",
    "p10.x_range.range_padding = 0.1\n",
    "p10.xgrid.grid_line_color = None\n",
    "p10.xaxis.major_label_orientation = 0.3\n",
    "\n",
    "# Legend properties\n",
    "p10.legend.click_policy = \"hide\"\n",
    "p10.legend.location = \"top_left\"\n",
    "p10.legend.orientation = \"vertical\"\n",
    "\n",
    "# Hover tool\n",
    "hover4 = HoverTool(\n",
    "    tooltips=[('Classified',\n",
    "               '@Classified'), ('Misclassified',\n",
    "                                '@Misclassified'), ('Race', '@races')])\n",
    "\n",
    "p10.add_tools(hover4)"
   ]
  },
  {
   "cell_type": "code",
   "execution_count": 61,
   "metadata": {
    "ExecuteTime": {
     "end_time": "2020-12-17T07:35:22.226175Z",
     "start_time": "2020-12-17T07:35:22.170034Z"
    }
   },
   "outputs": [],
   "source": [
    "plot101 = pr.groupby(['X7', 'result'])[['result']].count()"
   ]
  },
  {
   "cell_type": "markdown",
   "metadata": {},
   "source": [
    "### Fifth Figure - Occupation Classified"
   ]
  },
  {
   "cell_type": "code",
   "execution_count": 62,
   "metadata": {
    "ExecuteTime": {
     "end_time": "2020-12-17T07:35:22.281839Z",
     "start_time": "2020-12-17T07:35:22.227717Z"
    }
   },
   "outputs": [],
   "source": [
    "x = {\n",
    "    'Adm-clerical': 1608,\n",
    "    'Armed-Forces': 4,\n",
    "    'Craft-repair': 1567,\n",
    "    'Exec-managerial': 1519,\n",
    "    'Farming-fishing': 439,\n",
    "    'Handlers-cleaners': 643,\n",
    "    'Machine-op-inspct': 876,\n",
    "    'Other-service': 1531,\n",
    "    'Priv-house-serv': 87,\n",
    "    'Prof-specialty': 1505,\n",
    "    'Protective-serv': 249,\n",
    "    'Sales': 1496,\n",
    "    'Tech-support': 396,\n",
    "    'Transport-moving': 588\n",
    "}\n",
    "\n",
    "data = pd.Series(x).reset_index(name='value').rename(\n",
    "    columns={'index': 'occup'})\n",
    "data['angle'] = data['value'] / data['value'].sum() * 2 * pi\n",
    "data['color'] = Category20c[len(x)]\n",
    "\n",
    "# Visualizing the figure\n",
    "p11 = figure(plot_height=400,\n",
    "             plot_width=500,\n",
    "             title=\"Classified cases - Occupation\",\n",
    "             toolbar_location=None,\n",
    "             tools=\"hover\",\n",
    "             tooltips=\"@occup: @value\",\n",
    "             x_range=(-0.5, 1.0))\n",
    "\n",
    "p11.wedge(x=0,\n",
    "          y=1,\n",
    "          radius=0.3,\n",
    "          start_angle=cumsum('angle', include_zero=True),\n",
    "          end_angle=cumsum('angle'),\n",
    "          line_color=\"white\",\n",
    "          fill_color='color',\n",
    "          legend_field='occup',\n",
    "          source=data)\n",
    "\n",
    "p11.axis.axis_label = None\n",
    "p11.axis.visible = False\n",
    "p11.grid.grid_line_color = None"
   ]
  },
  {
   "cell_type": "markdown",
   "metadata": {},
   "source": [
    "### Sixth Figure - Occupation Misclassified"
   ]
  },
  {
   "cell_type": "code",
   "execution_count": 63,
   "metadata": {
    "ExecuteTime": {
     "end_time": "2020-12-17T07:35:22.344238Z",
     "start_time": "2020-12-17T07:35:22.283449Z"
    }
   },
   "outputs": [],
   "source": [
    "x = {\n",
    "    'Adm-clerical': 211,\n",
    "    'Armed-Forces': 1,\n",
    "    'Craft-repair': 423,\n",
    "    'Exec-managerial': 473,\n",
    "    'Farming-fishing': 52,\n",
    "    'Handlers-cleaners': 53,\n",
    "    'Machine-op-inspct': 128,\n",
    "    'Other-service': 65,\n",
    "    'Priv-house-serv': 2,\n",
    "    'Prof-specialty': 465,\n",
    "    'Protective-serv': 83,\n",
    "    'Sales': 328,\n",
    "    'Tech-support': 112,\n",
    "    'Transport-moving': 156\n",
    "}\n",
    "\n",
    "data = pd.Series(x).reset_index(name='value').rename(\n",
    "    columns={'index': 'occup'})\n",
    "data['angle'] = data['value'] / data['value'].sum() * 2 * pi\n",
    "data['color'] = Category20c[len(x)]\n",
    "\n",
    "p12 = figure(plot_height=400,\n",
    "             plot_width=500,\n",
    "             title=\"Misclassified cases - Occupation \",\n",
    "             toolbar_location=None,\n",
    "             tools=\"hover\",\n",
    "             tooltips=\"@occup: @value\",\n",
    "             x_range=(-0.5, 1.0))\n",
    "\n",
    "p12.wedge(x=0,\n",
    "          y=1,\n",
    "          radius=0.3,\n",
    "          start_angle=cumsum('angle', include_zero=True),\n",
    "          end_angle=cumsum('angle'),\n",
    "          line_color=\"white\",\n",
    "          fill_color='color',\n",
    "          legend_field='occup',\n",
    "          source=data)\n",
    "\n",
    "p12.axis.axis_label = None\n",
    "p12.axis.visible = False\n",
    "p12.grid.grid_line_color = None"
   ]
  },
  {
   "cell_type": "code",
   "execution_count": 64,
   "metadata": {
    "ExecuteTime": {
     "end_time": "2020-12-17T07:35:23.332950Z",
     "start_time": "2020-12-17T07:35:22.345632Z"
    }
   },
   "outputs": [],
   "source": [
    "# Visualise dashboard with tab layout\n",
    "\n",
    "l1 = layout([[p, p2], [p3, p4], [p5, p6]])\n",
    "l2 = layout([[p7, p8], [p9, p10], [p11, p12]])\n",
    "\n",
    "tab1 = Panel(child=l1, title=\"Continuous\")\n",
    "tab2 = Panel(child=l2, title=\"Categorical\")\n",
    "tabs = Tabs(tabs=[tab1, tab2])\n",
    "\n",
    "save_path = os.path.join('output', 'dashboard_tabs.html')\n",
    "output_file(save_path)\n",
    "\n",
    "show(Tabs(tabs=[tab1, tab2]))"
   ]
  }
 ],
 "metadata": {
  "colab": {
   "authorship_tag": "ABX9TyMc1026AEiyRurwWbjmsRVh",
   "collapsed_sections": [],
   "include_colab_link": true,
   "mount_file_id": "1vozppZAgENIGDSirA5FOKZfK8CimNi1s",
   "name": "lab",
   "provenance": []
  },
  "kernelspec": {
   "display_name": "Python [conda env:SMM639]",
   "language": "python",
   "name": "conda-env-SMM639-py"
  },
  "language_info": {
   "codemirror_mode": {
    "name": "ipython",
    "version": 3
   },
   "file_extension": ".py",
   "mimetype": "text/x-python",
   "name": "python",
   "nbconvert_exporter": "python",
   "pygments_lexer": "ipython3",
   "version": "3.8.6"
  },
  "latex_envs": {
   "LaTeX_envs_menu_present": true,
   "autoclose": false,
   "autocomplete": true,
   "bibliofile": "biblio.bib",
   "cite_by": "apalike",
   "current_citInitial": 1,
   "eqLabelWithNumbers": true,
   "eqNumInitial": 1,
   "hotkeys": {
    "equation": "Ctrl-E",
    "itemize": "Ctrl-I"
   },
   "labels_anchors": false,
   "latex_user_defs": false,
   "report_style_numbering": false,
   "user_envs_cfg": false
  },
  "toc": {
   "base_numbering": 1,
   "nav_menu": {},
   "number_sections": true,
   "sideBar": true,
   "skip_h1_title": false,
   "title_cell": "Table of Contents",
   "title_sidebar": "Contents",
   "toc_cell": false,
   "toc_position": {
    "height": "434px",
    "left": "372px",
    "top": "134px",
    "width": "393.767px"
   },
   "toc_section_display": true,
   "toc_window_display": true
  },
  "varInspector": {
   "cols": {
    "lenName": 16,
    "lenType": 16,
    "lenVar": 40
   },
   "kernels_config": {
    "python": {
     "delete_cmd_postfix": "",
     "delete_cmd_prefix": "del ",
     "library": "var_list.py",
     "varRefreshCmd": "print(var_dic_list())"
    },
    "r": {
     "delete_cmd_postfix": ") ",
     "delete_cmd_prefix": "rm(",
     "library": "var_list.r",
     "varRefreshCmd": "cat(var_dic_list()) "
    }
   },
   "types_to_exclude": [
    "module",
    "function",
    "builtin_function_or_method",
    "instance",
    "_Feature"
   ],
   "window_display": false
  }
 },
 "nbformat": 4,
 "nbformat_minor": 1
}
