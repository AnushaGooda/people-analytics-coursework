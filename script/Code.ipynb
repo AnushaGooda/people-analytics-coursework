{
 "cells": [
  {
   "cell_type": "markdown",
   "metadata": {
    "id": "m8bH2hHdv_Ar"
   },
   "source": [
    "## Load Libraries"
   ]
  },
  {
   "cell_type": "code",
   "execution_count": 8,
   "metadata": {
    "ExecuteTime": {
     "end_time": "2020-12-17T01:52:09.861925Z",
     "start_time": "2020-12-17T01:52:09.856750Z"
    },
    "id": "Hzy39jTdYUBl"
   },
   "outputs": [],
   "source": [
    "# libraries\n",
    "import os\n",
    "import glob\n",
    "import numpy as np\n",
    "import matplotlib as pyplot\n",
    "import seaborn as sns\n",
    "import pandas as pd\n",
    "import matplotlib.pyplot as plt\n",
    "from sklearn.metrics import confusion_matrix\n",
    "\n",
    "# Bokeh libraries\n",
    "from bokeh.io import output_file, output_notebook, curdoc, show\n",
    "from bokeh.plotting import figure, show, output_file\n",
    "from bokeh.models import HoverTool, ColumnDataSource, FactorRange, Slider, PanTool,ResetTool,BoxZoomTool, Panel, Tabs\n",
    "from bokeh.models.widgets import Tabs, Panel\n",
    "from bokeh.layouts import row, column, gridplot, widgetbox, layout\n",
    "from bokeh.transform import cumsum, factor_cmap, dodge\n",
    "from bokeh.palettes import Category20c, Spectral4\n",
    "\n",
    "from math import pi"
   ]
  },
  {
   "cell_type": "markdown",
   "metadata": {
    "id": "CBkWy3hjzX8k"
   },
   "source": [
    "## Load Data"
   ]
  },
  {
   "cell_type": "code",
   "execution_count": 9,
   "metadata": {
    "ExecuteTime": {
     "end_time": "2020-12-17T01:52:10.061978Z",
     "start_time": "2020-12-17T01:52:09.921002Z"
    },
    "colab": {
     "base_uri": "https://localhost:8080/"
    },
    "id": "4WcZLNy3zuqX",
    "outputId": "ebad5ccd-2fc1-4351-fab0-f2c45302781d"
   },
   "outputs": [],
   "source": [
    "base_path = os.path.join('..', 'datasets')\n",
    "json_path = os.path.join(base_path,'CSVM.json')\n",
    "pr = pd.read_json(json_path)"
   ]
  },
  {
   "cell_type": "markdown",
   "metadata": {
    "ExecuteTime": {
     "end_time": "2020-12-16T23:57:35.537329Z",
     "start_time": "2020-12-16T23:57:35.534359Z"
    }
   },
   "source": [
    "## Data classification"
   ]
  },
  {
   "cell_type": "code",
   "execution_count": 10,
   "metadata": {
    "ExecuteTime": {
     "end_time": "2020-12-17T01:52:10.366728Z",
     "start_time": "2020-12-17T01:52:10.064943Z"
    }
   },
   "outputs": [],
   "source": [
    "def Check(pr):\n",
    "   if pr['Y']== pr['prediction_C_SVM']:\n",
    "      return \"True\"\n",
    "   else:\n",
    "      return \"False\" \n",
    "\n",
    "pr['result'] = pr.apply(Check, axis=1)"
   ]
  },
  {
   "cell_type": "code",
   "execution_count": 11,
   "metadata": {
    "ExecuteTime": {
     "end_time": "2020-12-17T01:52:10.382297Z",
     "start_time": "2020-12-17T01:52:10.370152Z"
    }
   },
   "outputs": [],
   "source": [
    "prm1 = pr[pr['Y'] == -1]"
   ]
  },
  {
   "cell_type": "code",
   "execution_count": 12,
   "metadata": {
    "ExecuteTime": {
     "end_time": "2020-12-17T01:52:10.405605Z",
     "start_time": "2020-12-17T01:52:10.386243Z"
    }
   },
   "outputs": [
    {
     "data": {
      "text/html": [
       "<div>\n",
       "<style scoped>\n",
       "    .dataframe tbody tr th:only-of-type {\n",
       "        vertical-align: middle;\n",
       "    }\n",
       "\n",
       "    .dataframe tbody tr th {\n",
       "        vertical-align: top;\n",
       "    }\n",
       "\n",
       "    .dataframe thead th {\n",
       "        text-align: right;\n",
       "    }\n",
       "</style>\n",
       "<table border=\"1\" class=\"dataframe\">\n",
       "  <thead>\n",
       "    <tr style=\"text-align: right;\">\n",
       "      <th></th>\n",
       "      <th>Y</th>\n",
       "      <th>X1</th>\n",
       "      <th>X2</th>\n",
       "      <th>X3</th>\n",
       "      <th>X4</th>\n",
       "      <th>X5</th>\n",
       "      <th>X6</th>\n",
       "      <th>X7</th>\n",
       "      <th>X8</th>\n",
       "      <th>X9</th>\n",
       "      <th>X10</th>\n",
       "      <th>X11</th>\n",
       "      <th>X12</th>\n",
       "      <th>X13</th>\n",
       "      <th>prediction_C_SVM</th>\n",
       "      <th>result</th>\n",
       "    </tr>\n",
       "  </thead>\n",
       "  <tbody>\n",
       "    <tr>\n",
       "      <th>0</th>\n",
       "      <td>-1</td>\n",
       "      <td>25</td>\n",
       "      <td>Private</td>\n",
       "      <td>226802</td>\n",
       "      <td>11th</td>\n",
       "      <td>7</td>\n",
       "      <td>Never-married</td>\n",
       "      <td>Machine-op-inspct</td>\n",
       "      <td>Own-child</td>\n",
       "      <td>Black</td>\n",
       "      <td>Male</td>\n",
       "      <td>0</td>\n",
       "      <td>0</td>\n",
       "      <td>40</td>\n",
       "      <td>-1</td>\n",
       "      <td>True</td>\n",
       "    </tr>\n",
       "    <tr>\n",
       "      <th>1</th>\n",
       "      <td>-1</td>\n",
       "      <td>38</td>\n",
       "      <td>Private</td>\n",
       "      <td>89814</td>\n",
       "      <td>HS-grad</td>\n",
       "      <td>9</td>\n",
       "      <td>Married-civ-spouse</td>\n",
       "      <td>Farming-fishing</td>\n",
       "      <td>Husband</td>\n",
       "      <td>White</td>\n",
       "      <td>Male</td>\n",
       "      <td>0</td>\n",
       "      <td>0</td>\n",
       "      <td>50</td>\n",
       "      <td>-1</td>\n",
       "      <td>True</td>\n",
       "    </tr>\n",
       "  </tbody>\n",
       "</table>\n",
       "</div>"
      ],
      "text/plain": [
       "   Y  X1       X2      X3       X4  X5                  X6                 X7  \\\n",
       "0 -1  25  Private  226802     11th   7       Never-married  Machine-op-inspct   \n",
       "1 -1  38  Private   89814  HS-grad   9  Married-civ-spouse    Farming-fishing   \n",
       "\n",
       "          X8     X9   X10  X11  X12  X13  prediction_C_SVM result  \n",
       "0  Own-child  Black  Male    0    0   40                -1   True  \n",
       "1    Husband  White  Male    0    0   50                -1   True  "
      ]
     },
     "execution_count": 12,
     "metadata": {},
     "output_type": "execute_result"
    }
   ],
   "source": [
    "prm1.head(2) #salary < 50k"
   ]
  },
  {
   "cell_type": "code",
   "execution_count": 13,
   "metadata": {
    "ExecuteTime": {
     "end_time": "2020-12-17T01:52:10.413539Z",
     "start_time": "2020-12-17T01:52:10.408404Z"
    }
   },
   "outputs": [],
   "source": [
    "pr1 = pr[pr['Y'] == 1]"
   ]
  },
  {
   "cell_type": "code",
   "execution_count": 14,
   "metadata": {
    "ExecuteTime": {
     "end_time": "2020-12-17T01:52:10.427813Z",
     "start_time": "2020-12-17T01:52:10.416083Z"
    }
   },
   "outputs": [],
   "source": [
    "#Error denotes the misclassified case, Correct denotes the correctly classifed cases\n",
    "error1 = prm1[prm1['prediction_C_SVM'] == 1] \n",
    "correct1 = prm1[prm1['prediction_C_SVM'] == -1]\n",
    "error2 = pr1[pr1['prediction_C_SVM'] == -1]\n",
    "correct2 = pr1[pr1['prediction_C_SVM'] == 1]"
   ]
  },
  {
   "cell_type": "code",
   "execution_count": 15,
   "metadata": {
    "ExecuteTime": {
     "end_time": "2020-12-17T01:52:10.463449Z",
     "start_time": "2020-12-17T01:52:10.430605Z"
    }
   },
   "outputs": [],
   "source": [
    "error = error1.append(error2)\n",
    "error = error.reset_index()\n",
    "error= error.drop(columns = ['index'])\n",
    "correct = correct1.append(correct2)\n",
    "correct = correct.reset_index()\n",
    "correct= correct.drop(columns = ['index'])"
   ]
  },
  {
   "cell_type": "markdown",
   "metadata": {},
   "source": [
    "## Confusion Matrix and Correlation Heatmaps"
   ]
  },
  {
   "cell_type": "code",
   "execution_count": 16,
   "metadata": {
    "ExecuteTime": {
     "end_time": "2020-12-17T01:52:10.483760Z",
     "start_time": "2020-12-17T01:52:10.467849Z"
    }
   },
   "outputs": [],
   "source": [
    "confusion_matrix_error = pd.crosstab(pr['Y'], pr['prediction_C_SVM'], rownames = ['Actual'], colnames = ['Predicted'])"
   ]
  },
  {
   "cell_type": "code",
   "execution_count": 17,
   "metadata": {
    "ExecuteTime": {
     "end_time": "2020-12-17T01:52:10.493880Z",
     "start_time": "2020-12-17T01:52:10.487535Z"
    }
   },
   "outputs": [
    {
     "data": {
      "text/html": [
       "<div>\n",
       "<style scoped>\n",
       "    .dataframe tbody tr th:only-of-type {\n",
       "        vertical-align: middle;\n",
       "    }\n",
       "\n",
       "    .dataframe tbody tr th {\n",
       "        vertical-align: top;\n",
       "    }\n",
       "\n",
       "    .dataframe thead th {\n",
       "        text-align: right;\n",
       "    }\n",
       "</style>\n",
       "<table border=\"1\" class=\"dataframe\">\n",
       "  <thead>\n",
       "    <tr style=\"text-align: right;\">\n",
       "      <th>Predicted</th>\n",
       "      <th>-1</th>\n",
       "      <th>1</th>\n",
       "    </tr>\n",
       "    <tr>\n",
       "      <th>Actual</th>\n",
       "      <th></th>\n",
       "      <th></th>\n",
       "    </tr>\n",
       "  </thead>\n",
       "  <tbody>\n",
       "    <tr>\n",
       "      <th>-1</th>\n",
       "      <td>10329</td>\n",
       "      <td>1031</td>\n",
       "    </tr>\n",
       "    <tr>\n",
       "      <th>1</th>\n",
       "      <td>1521</td>\n",
       "      <td>2179</td>\n",
       "    </tr>\n",
       "  </tbody>\n",
       "</table>\n",
       "</div>"
      ],
      "text/plain": [
       "Predicted     -1     1\n",
       "Actual                \n",
       "-1         10329  1031\n",
       " 1          1521  2179"
      ]
     },
     "execution_count": 17,
     "metadata": {},
     "output_type": "execute_result"
    }
   ],
   "source": [
    "confusion_matrix_error"
   ]
  },
  {
   "cell_type": "code",
   "execution_count": 18,
   "metadata": {
    "ExecuteTime": {
     "end_time": "2020-12-17T01:52:10.501131Z",
     "start_time": "2020-12-17T01:52:10.496306Z"
    }
   },
   "outputs": [],
   "source": [
    "corr_matrix_error = error.corr()"
   ]
  },
  {
   "cell_type": "code",
   "execution_count": 19,
   "metadata": {
    "ExecuteTime": {
     "end_time": "2020-12-17T01:52:11.115573Z",
     "start_time": "2020-12-17T01:52:10.503899Z"
    }
   },
   "outputs": [
    {
     "data": {
      "image/png": "[encoded data removed]",
      "text/plain": [
       "<Figure size 792x648 with 2 Axes>"
      ]
     },
     "metadata": {
      "needs_background": "light"
     },
     "output_type": "display_data"
    }
   ],
   "source": [
    "mask = np.triu(np.ones_like(corr_matrix_error, dtype=bool))\n",
    "\n",
    "#Matplotlib figure\n",
    "f, ax = plt.subplots(figsize=(11, 9))\n",
    "\n",
    "#Custom diverging colormap\n",
    "cmap = sns.diverging_palette(250, 15, center = 'light', as_cmap=True)\n",
    "\n",
    "#Heatmap with mask and aspect ratio\n",
    "sns.heatmap(corr_matrix_error, mask = mask, cmap=cmap, vmax=.3, center=0,\n",
    "            square=True, linewidths=.5, cbar_kws={\"shrink\": .5}, annot= True)\n",
    "plt.savefig('core_error.jpeg')"
   ]
  },
  {
   "cell_type": "code",
   "execution_count": 20,
   "metadata": {
    "ExecuteTime": {
     "end_time": "2020-12-17T01:52:11.125494Z",
     "start_time": "2020-12-17T01:52:11.118741Z"
    }
   },
   "outputs": [],
   "source": [
    "corr_matrix_correct = correct.corr()"
   ]
  },
  {
   "cell_type": "code",
   "execution_count": 21,
   "metadata": {
    "ExecuteTime": {
     "end_time": "2020-12-17T01:52:11.706701Z",
     "start_time": "2020-12-17T01:52:11.127648Z"
    }
   },
   "outputs": [
    {
     "data": {
      "image/png": "[encoded data removed]",
      "text/plain": [
       "<Figure size 792x648 with 2 Axes>"
      ]
     },
     "metadata": {
      "needs_background": "light"
     },
     "output_type": "display_data"
    }
   ],
   "source": [
    "mask = np.triu(np.ones_like(corr_matrix_correct, dtype=bool))\n",
    "\n",
    "#Matplotlib figure\n",
    "f, ax = plt.subplots(figsize=(11, 9))\n",
    "\n",
    "#Custom diverging colormap\n",
    "cmap = sns.diverging_palette(250, 15, center = 'light', as_cmap=True)\n",
    "\n",
    "#Heatmap with the mask and correct aspect ratio\n",
    "sns.heatmap(corr_matrix_correct, mask = mask, cmap=cmap, vmax=.3, center=0,\n",
    "            square=True, linewidths=.5, cbar_kws={\"shrink\": .5}, annot= True)\n",
    "plt.savefig('core_correct.jpeg')"
   ]
  },
  {
   "cell_type": "code",
   "execution_count": 22,
   "metadata": {
    "ExecuteTime": {
     "end_time": "2020-12-17T01:52:11.724992Z",
     "start_time": "2020-12-17T01:52:11.710041Z"
    }
   },
   "outputs": [],
   "source": [
    "y_true = pr['Y']\n",
    "y_pred = pr['prediction_C_SVM']\n",
    "confusion_matrix = confusion_matrix(y_true, y_pred)"
   ]
  },
  {
   "cell_type": "code",
   "execution_count": 23,
   "metadata": {
    "ExecuteTime": {
     "end_time": "2020-12-17T01:52:11.958910Z",
     "start_time": "2020-12-17T01:52:11.727490Z"
    }
   },
   "outputs": [
    {
     "data": {
      "image/png": "[encoded data removed]",
      "text/plain": [
       "<Figure size 432x288 with 2 Axes>"
      ]
     },
     "metadata": {
      "needs_background": "light"
     },
     "output_type": "display_data"
    }
   ],
   "source": [
    "g = sns.heatmap(confusion_matrix, annot=True, fmt='g', cmap = 'mako')\n",
    "g.set_xticklabels(['Negative', 'Positive'], va = 'center')\n",
    "g.set_yticklabels([ 'Negative', 'Positive'], va = 'center')\n",
    "plt.savefig('heatmap.jpeg')"
   ]
  },
  {
   "cell_type": "markdown",
   "metadata": {
    "ExecuteTime": {
     "end_time": "2020-12-16T23:57:38.122093Z",
     "start_time": "2020-12-16T23:57:38.118181Z"
    }
   },
   "source": [
    "## Data cleaning for Bokeh dashboard"
   ]
  },
  {
   "cell_type": "code",
   "execution_count": 24,
   "metadata": {
    "ExecuteTime": {
     "end_time": "2020-12-17T01:52:11.984405Z",
     "start_time": "2020-12-17T01:52:11.961308Z"
    }
   },
   "outputs": [],
   "source": [
    "plot1 = correct.groupby(pd.cut(correct[\"X1\"], np.arange(15, 90, 3))).size()\n",
    "plot11 = error.groupby(pd.cut(error[\"X1\"], np.arange(15, 90, 3))).size()"
   ]
  },
  {
   "cell_type": "code",
   "execution_count": 25,
   "metadata": {
    "ExecuteTime": {
     "end_time": "2020-12-17T01:52:11.990597Z",
     "start_time": "2020-12-17T01:52:11.986689Z"
    }
   },
   "outputs": [],
   "source": [
    "plot1 = plot1.to_frame()\n",
    "plot11 = plot11.to_frame()"
   ]
  },
  {
   "cell_type": "code",
   "execution_count": 26,
   "metadata": {
    "ExecuteTime": {
     "end_time": "2020-12-17T01:52:12.000345Z",
     "start_time": "2020-12-17T01:52:11.993870Z"
    }
   },
   "outputs": [],
   "source": [
    "plot1 = plot1.reset_index()\n",
    "plot11 = plot11.reset_index()"
   ]
  },
  {
   "cell_type": "code",
   "execution_count": 27,
   "metadata": {
    "ExecuteTime": {
     "end_time": "2020-12-17T01:52:12.008094Z",
     "start_time": "2020-12-17T01:52:12.003039Z"
    }
   },
   "outputs": [],
   "source": [
    "plot1 = plot1.reset_index()\n",
    "plot11 = plot11.reset_index()"
   ]
  },
  {
   "cell_type": "code",
   "execution_count": 28,
   "metadata": {
    "ExecuteTime": {
     "end_time": "2020-12-17T01:52:12.015925Z",
     "start_time": "2020-12-17T01:52:12.011043Z"
    }
   },
   "outputs": [],
   "source": [
    "plot1=plot1.rename(columns={\"X1\": \"Range\", 0: \"Count\"})\n",
    "plot11=plot11.rename(columns={\"X1\": \"Range\", 0: \"Count\"})"
   ]
  },
  {
   "cell_type": "code",
   "execution_count": 29,
   "metadata": {
    "ExecuteTime": {
     "end_time": "2020-12-17T01:52:12.048071Z",
     "start_time": "2020-12-17T01:52:12.018975Z"
    }
   },
   "outputs": [],
   "source": [
    "plot2 = correct.groupby(pd.cut(correct[\"X3\"], np.arange(13492, 1490400, 10000))).size()\n",
    "plot22 = error.groupby(pd.cut(error[\"X3\"], np.arange(13492, 1490400, 10000))).size()"
   ]
  },
  {
   "cell_type": "code",
   "execution_count": 30,
   "metadata": {
    "ExecuteTime": {
     "end_time": "2020-12-17T01:52:12.053915Z",
     "start_time": "2020-12-17T01:52:12.050399Z"
    }
   },
   "outputs": [],
   "source": [
    "plot2 = plot2.to_frame()\n",
    "plot22 = plot22.to_frame()"
   ]
  },
  {
   "cell_type": "code",
   "execution_count": 31,
   "metadata": {
    "ExecuteTime": {
     "end_time": "2020-12-17T01:52:12.065547Z",
     "start_time": "2020-12-17T01:52:12.061251Z"
    }
   },
   "outputs": [],
   "source": [
    "plot2 = plot2.reset_index()\n",
    "plot22 = plot22.reset_index()"
   ]
  },
  {
   "cell_type": "code",
   "execution_count": 32,
   "metadata": {
    "ExecuteTime": {
     "end_time": "2020-12-17T01:52:12.075284Z",
     "start_time": "2020-12-17T01:52:12.070812Z"
    }
   },
   "outputs": [],
   "source": [
    "plot2 = plot2.reset_index()\n",
    "plot22 = plot22.reset_index()"
   ]
  },
  {
   "cell_type": "code",
   "execution_count": 33,
   "metadata": {
    "ExecuteTime": {
     "end_time": "2020-12-17T01:52:12.083381Z",
     "start_time": "2020-12-17T01:52:12.078270Z"
    }
   },
   "outputs": [],
   "source": [
    "plot2=plot2.rename(columns={\"X3\": \"Range\", 0: \"Count\"})\n",
    "plot22=plot22.rename(columns={\"X3\": \"Range\", 0: \"Count\"})"
   ]
  },
  {
   "cell_type": "code",
   "execution_count": 34,
   "metadata": {
    "ExecuteTime": {
     "end_time": "2020-12-17T01:52:12.092725Z",
     "start_time": "2020-12-17T01:52:12.086298Z"
    }
   },
   "outputs": [],
   "source": [
    "plot3 = correct.groupby([\"X5\"]).size()\n",
    "plot33 = error.groupby([\"X5\"]).size()"
   ]
  },
  {
   "cell_type": "code",
   "execution_count": 35,
   "metadata": {
    "ExecuteTime": {
     "end_time": "2020-12-17T01:52:12.098949Z",
     "start_time": "2020-12-17T01:52:12.095096Z"
    }
   },
   "outputs": [],
   "source": [
    "plot3 = plot3.to_frame()\n",
    "plot33 = plot33.to_frame()"
   ]
  },
  {
   "cell_type": "code",
   "execution_count": 36,
   "metadata": {
    "ExecuteTime": {
     "end_time": "2020-12-17T01:52:12.107818Z",
     "start_time": "2020-12-17T01:52:12.102399Z"
    }
   },
   "outputs": [],
   "source": [
    "plot3 = plot3.reset_index()\n",
    "plot33 = plot33.reset_index()"
   ]
  },
  {
   "cell_type": "code",
   "execution_count": 37,
   "metadata": {
    "ExecuteTime": {
     "end_time": "2020-12-17T01:52:12.115235Z",
     "start_time": "2020-12-17T01:52:12.110813Z"
    }
   },
   "outputs": [],
   "source": [
    "plot3 = plot3.reset_index()\n",
    "plot33 = plot33.reset_index()"
   ]
  },
  {
   "cell_type": "code",
   "execution_count": 38,
   "metadata": {
    "ExecuteTime": {
     "end_time": "2020-12-17T01:52:12.122851Z",
     "start_time": "2020-12-17T01:52:12.118221Z"
    }
   },
   "outputs": [],
   "source": [
    "plot3=plot3.rename(columns={\"X5\": \"Range\", 0: \"Count\"})\n",
    "plot33=plot33.rename(columns={\"X5\": \"Range\", 0: \"Count\"})"
   ]
  },
  {
   "cell_type": "code",
   "execution_count": 39,
   "metadata": {
    "ExecuteTime": {
     "end_time": "2020-12-17T01:52:12.145559Z",
     "start_time": "2020-12-17T01:52:12.125792Z"
    }
   },
   "outputs": [],
   "source": [
    "plot4 = correct.groupby(pd.cut(correct[\"X11\"], np.arange(0, 99999, 10000))).size()\n",
    "plot44 = error.groupby(pd.cut(error[\"X11\"], np.arange(0, 99999, 10000))).size()"
   ]
  },
  {
   "cell_type": "code",
   "execution_count": 40,
   "metadata": {
    "ExecuteTime": {
     "end_time": "2020-12-17T01:52:12.152234Z",
     "start_time": "2020-12-17T01:52:12.148068Z"
    }
   },
   "outputs": [],
   "source": [
    "plot4 = plot4.to_frame()\n",
    "plot44 = plot44.to_frame()"
   ]
  },
  {
   "cell_type": "code",
   "execution_count": 41,
   "metadata": {
    "ExecuteTime": {
     "end_time": "2020-12-17T01:52:12.162910Z",
     "start_time": "2020-12-17T01:52:12.155476Z"
    }
   },
   "outputs": [],
   "source": [
    "plot4 = plot4.reset_index()\n",
    "plot44 = plot44.reset_index()"
   ]
  },
  {
   "cell_type": "code",
   "execution_count": 42,
   "metadata": {
    "ExecuteTime": {
     "end_time": "2020-12-17T01:52:12.173002Z",
     "start_time": "2020-12-17T01:52:12.166073Z"
    }
   },
   "outputs": [],
   "source": [
    "plot4 = plot4.reset_index()\n",
    "plot44 = plot44.reset_index()"
   ]
  },
  {
   "cell_type": "code",
   "execution_count": 43,
   "metadata": {
    "ExecuteTime": {
     "end_time": "2020-12-17T01:52:12.180222Z",
     "start_time": "2020-12-17T01:52:12.175440Z"
    }
   },
   "outputs": [],
   "source": [
    "plot4=plot4.rename(columns={\"X5\": \"Range\", 0: \"Count\"})\n",
    "plot44=plot44.rename(columns={\"X5\": \"Range\", 0: \"Count\"})"
   ]
  },
  {
   "cell_type": "code",
   "execution_count": 44,
   "metadata": {
    "ExecuteTime": {
     "end_time": "2020-12-17T01:52:12.200198Z",
     "start_time": "2020-12-17T01:52:12.183301Z"
    }
   },
   "outputs": [],
   "source": [
    "plot5 = correct.groupby(pd.cut(correct[\"X12\"], np.arange(0, 3770, 500))).size()\n",
    "plot55 = error.groupby(pd.cut(error[\"X12\"], np.arange(0, 3770, 500))).size()"
   ]
  },
  {
   "cell_type": "code",
   "execution_count": 45,
   "metadata": {
    "ExecuteTime": {
     "end_time": "2020-12-17T01:52:12.212444Z",
     "start_time": "2020-12-17T01:52:12.206700Z"
    }
   },
   "outputs": [],
   "source": [
    "plot5 = plot5.to_frame()\n",
    "plot55 = plot55.to_frame()"
   ]
  },
  {
   "cell_type": "code",
   "execution_count": 46,
   "metadata": {
    "ExecuteTime": {
     "end_time": "2020-12-17T01:52:12.223708Z",
     "start_time": "2020-12-17T01:52:12.217059Z"
    }
   },
   "outputs": [],
   "source": [
    "plot5 = plot5.reset_index()\n",
    "plot55 = plot55.reset_index()"
   ]
  },
  {
   "cell_type": "code",
   "execution_count": 47,
   "metadata": {
    "ExecuteTime": {
     "end_time": "2020-12-17T01:52:12.234978Z",
     "start_time": "2020-12-17T01:52:12.227136Z"
    }
   },
   "outputs": [],
   "source": [
    "plot5 = plot5.reset_index()\n",
    "plot55 = plot55.reset_index()"
   ]
  },
  {
   "cell_type": "code",
   "execution_count": 48,
   "metadata": {
    "ExecuteTime": {
     "end_time": "2020-12-17T01:52:12.246812Z",
     "start_time": "2020-12-17T01:52:12.239212Z"
    }
   },
   "outputs": [],
   "source": [
    "plot5=plot5.rename(columns={\"X12\": \"Range\", 0: \"Count\"})\n",
    "plot55=plot55.rename(columns={\"X12\": \"Range\", 0: \"Count\"})"
   ]
  },
  {
   "cell_type": "code",
   "execution_count": 49,
   "metadata": {
    "ExecuteTime": {
     "end_time": "2020-12-17T01:52:12.276302Z",
     "start_time": "2020-12-17T01:52:12.250326Z"
    }
   },
   "outputs": [],
   "source": [
    "plot6 = correct.groupby(pd.cut(correct[\"X13\"], np.arange(0, 99, 10))).size()\n",
    "plot66 = error.groupby(pd.cut(error[\"X13\"], np.arange(0, 99, 10))).size()"
   ]
  },
  {
   "cell_type": "code",
   "execution_count": 50,
   "metadata": {
    "ExecuteTime": {
     "end_time": "2020-12-17T01:52:12.283675Z",
     "start_time": "2020-12-17T01:52:12.279550Z"
    }
   },
   "outputs": [],
   "source": [
    "plot6 = plot6.to_frame()\n",
    "plot66 = plot66.to_frame()"
   ]
  },
  {
   "cell_type": "code",
   "execution_count": 51,
   "metadata": {
    "ExecuteTime": {
     "end_time": "2020-12-17T01:52:12.292366Z",
     "start_time": "2020-12-17T01:52:12.287088Z"
    }
   },
   "outputs": [],
   "source": [
    "plot6= plot6.reset_index()\n",
    "plot66 = plot66.reset_index()"
   ]
  },
  {
   "cell_type": "code",
   "execution_count": 52,
   "metadata": {
    "ExecuteTime": {
     "end_time": "2020-12-17T01:52:12.301658Z",
     "start_time": "2020-12-17T01:52:12.295738Z"
    }
   },
   "outputs": [],
   "source": [
    "plot6= plot6.reset_index()\n",
    "plot66 = plot66.reset_index()"
   ]
  },
  {
   "cell_type": "code",
   "execution_count": 53,
   "metadata": {
    "ExecuteTime": {
     "end_time": "2020-12-17T01:52:12.310960Z",
     "start_time": "2020-12-17T01:52:12.304755Z"
    }
   },
   "outputs": [],
   "source": [
    "plot6=plot6.rename(columns={\"X13\": \"Range\", 0: \"Count\"})\n",
    "plot66=plot66.rename(columns={\"X13\": \"Range\", 0: \"Count\"})"
   ]
  },
  {
   "cell_type": "code",
   "execution_count": 54,
   "metadata": {
    "ExecuteTime": {
     "end_time": "2020-12-17T01:52:12.324713Z",
     "start_time": "2020-12-17T01:52:12.314116Z"
    }
   },
   "outputs": [],
   "source": [
    "plot7 = pr.groupby(['X2','result'])[['result']].count()"
   ]
  },
  {
   "cell_type": "markdown",
   "metadata": {},
   "source": [
    "## Continuous Variables"
   ]
  },
  {
   "cell_type": "markdown",
   "metadata": {},
   "source": [
    "### First figure - Age"
   ]
  },
  {
   "cell_type": "code",
   "execution_count": 55,
   "metadata": {
    "ExecuteTime": {
     "end_time": "2020-12-17T01:52:12.360686Z",
     "start_time": "2020-12-17T01:52:12.326793Z"
    }
   },
   "outputs": [],
   "source": [
    "#Visualising the Bokeh figure\n",
    "p = figure(plot_width=500, plot_height=250, background_fill_color=\"#fafafa\")\n",
    "p.circle(plot1['index'], plot1['Count'], line_width=2, color='olivedrab', alpha=0.8, muted_color='White', muted_alpha=0.2, legend_label='Classified')\n",
    "p.line(plot1['index'], plot1['Count'], line_width=2, color='olivedrab', alpha=0.4, muted_color='White', muted_alpha=0.2, legend_label='Classified')\n",
    "p.circle(plot11['index'], plot11['Count'], line_width=2, color='firebrick', alpha=0.8, muted_color='White', muted_alpha=0.2, legend_label='Misclassified')\n",
    "p.line(plot11['index'], plot11['Count'], line_width=2, color= 'firebrick', muted_color= 'White', alpha=0.4, legend_label='Misclassified')\n",
    "\n",
    "\n",
    "#Legend properties\n",
    "p.legend.location = \"top_right\"\n",
    "p.legend.click_policy=\"hide\"\n",
    "\n",
    "#Label and ticks\n",
    "p.xaxis.axis_label = 'Age'\n",
    "p.yaxis.axis_label = 'Count'\n",
    "p.xaxis.ticker = [0, 5, 10, 15, 20, 25]\n",
    "p.xaxis.major_label_overrides = {0: '15', 5: '30', 10: '45', 15: '60', 20: '75', 25: '90'}\n",
    "p.title.text = 'Click on legend entries to hide the corresponding lines'\n"
   ]
  },
  {
   "cell_type": "markdown",
   "metadata": {},
   "source": [
    "###  Second figure  - Final Weight"
   ]
  },
  {
   "cell_type": "code",
   "execution_count": 56,
   "metadata": {
    "ExecuteTime": {
     "end_time": "2020-12-17T01:52:12.381611Z",
     "start_time": "2020-12-17T01:52:12.363713Z"
    }
   },
   "outputs": [],
   "source": [
    "#Visualising the Bokeh figure\n",
    "p2 = figure(plot_width=500, plot_height=250, background_fill_color=\"#fafafa\")\n",
    "p2.circle(plot2['index'], plot2['Count'], line_width=1, color='olivedrab', alpha=0.8, muted_color='White', muted_alpha=0.2, legend_label='Classified' )\n",
    "p2.circle(plot22['index'], plot22['Count'], line_width=1, color='firebrick', alpha=0.8, muted_color='White', muted_alpha=0.2, legend_label='Misclassified' )\n",
    "\n",
    "#Legend properties\n",
    "p2.legend.location = \"top_right\"\n",
    "p2.legend.click_policy=\"hide\"\n",
    "\n",
    "#Label and ticks\n",
    "p2.xaxis.axis_label = 'Final Weight'\n",
    "p2.xaxis.ticker = [0, 20, 40, 60, 80, 100, 120, 140]\n",
    "p2.xaxis.major_label_overrides = {0: '10000', 20: '20000', 40: '40000', 60: '60000', 80: '80000', 100: '1000000', 120: '1200000', 140: '1400000'}\n",
    "p2.yaxis.axis_label = 'Count'\n"
   ]
  },
  {
   "cell_type": "markdown",
   "metadata": {},
   "source": [
    "### Third figure - Education Number"
   ]
  },
  {
   "cell_type": "code",
   "execution_count": 57,
   "metadata": {
    "ExecuteTime": {
     "end_time": "2020-12-17T01:52:12.410721Z",
     "start_time": "2020-12-17T01:52:12.384772Z"
    }
   },
   "outputs": [],
   "source": [
    "#Visualising the Bokeh figure\n",
    "p3 = figure(plot_width=500, plot_height=250, background_fill_color=\"#fafafa\")\n",
    "p3.circle(plot3['index'], plot3['Count'], line_width=1, color='olivedrab', alpha=0.8, muted_color='White', muted_alpha=0.2, legend_label='Classified' )\n",
    "p3.circle(plot33['index'], plot33['Count'], line_width=1, color='firebrick', alpha=0.8, muted_color='White', muted_alpha=0.2, legend_label='Misclassified')\n",
    "p3.line(plot3['index'], plot3['Count'], line_width=2, color='olivedrab', alpha=0.4, muted_color='White', muted_alpha=0.2, legend_label='Classified' )\n",
    "p3.line(plot33['index'], plot33['Count'], line_width=2, color='firebrick', alpha=0.4, muted_color='White', muted_alpha=0.2, legend_label='Misclassified')\n",
    "\n",
    "#Labels\n",
    "p3.xaxis.axis_label = 'Education Number'\n",
    "p3.yaxis.axis_label = 'Count'\n",
    "\n",
    "#Legend properties\n",
    "p3.legend.location = \"top_right\"\n",
    "p3.legend.click_policy=\"hide\""
   ]
  },
  {
   "cell_type": "markdown",
   "metadata": {},
   "source": [
    "### Fourth figure - Capital Gain"
   ]
  },
  {
   "cell_type": "code",
   "execution_count": 58,
   "metadata": {
    "ExecuteTime": {
     "end_time": "2020-12-17T01:52:12.442486Z",
     "start_time": "2020-12-17T01:52:12.413923Z"
    }
   },
   "outputs": [],
   "source": [
    "#Visualising the Bokeh figure\n",
    "p4 = figure(plot_width=500, plot_height=250, background_fill_color=\"#fafafa\")\n",
    "p4.circle(plot4['index'], plot4['Count'], line_width=1, color='olivedrab', alpha=0.8, muted_color='White', muted_alpha=0.2, legend_label='Classified' )\n",
    "p4.circle(plot44['index'], plot44['Count'], line_width=1, color='firebrick', alpha=0.8, muted_color='White', muted_alpha=0.2, legend_label='Misclassified')\n",
    "p4.line(plot4['index'], plot4['Count'], line_width=2, color='olivedrab', alpha=0.4, muted_color='White', muted_alpha=0.2, legend_label='Classified' )\n",
    "p4.line(plot44['index'], plot44['Count'], line_width=2, color='firebrick', alpha=0.4, muted_color='White', muted_alpha=0.2, legend_label='Misclassified')\n",
    "\n",
    "#Labels and ticks\n",
    "p4.xaxis.axis_label = 'Capital Gain'\n",
    "p4.xaxis.ticker = [0, 2, 4, 6, 8]\n",
    "p4.xaxis.major_label_overrides = {0: '10000', 2: '20000', 4: '40000', 6: '60000', 8: '80000', 10: '100000'}\n",
    "p4.yaxis.axis_label = 'Count'\n",
    "\n",
    "#Legend properties\n",
    "p4.legend.location = \"top_right\"\n",
    "p4.legend.click_policy=\"hide\""
   ]
  },
  {
   "cell_type": "markdown",
   "metadata": {},
   "source": [
    "### Fifth figure - Capital Loss"
   ]
  },
  {
   "cell_type": "code",
   "execution_count": 59,
   "metadata": {
    "ExecuteTime": {
     "end_time": "2020-12-17T01:52:12.476088Z",
     "start_time": "2020-12-17T01:52:12.445243Z"
    }
   },
   "outputs": [],
   "source": [
    "#Visualising the Bokeh figure\n",
    "p5 = figure(plot_width=500, plot_height=250, background_fill_color=\"#fafafa\")\n",
    "p5.circle(plot5['index'], plot5['Count'], line_width=1, color='olivedrab', alpha=0.8, muted_color='White', muted_alpha=0.2, legend_label='Classified' )\n",
    "p5.circle(plot55['index'], plot55['Count'], line_width=1, color='firebrick', alpha=0.8, muted_color='White', muted_alpha=0.2, legend_label='Misclassified')\n",
    "p5.line(plot5['index'], plot5['Count'], line_width=2, color='olivedrab', alpha=0.4, muted_color='White', muted_alpha=0.2, legend_label='Classified' )\n",
    "p5.line(plot55['index'], plot55['Count'], line_width=2, color='firebrick', alpha=0.4, muted_color='White', muted_alpha=0.2, legend_label='Misclassified')\n",
    "\n",
    "#Labels and ticks\n",
    "p5.xaxis.axis_label = 'Capital Loss'\n",
    "p5.xaxis.ticker = [0, 1, 2, 3, 4, 5, 6]\n",
    "p5.xaxis.major_label_overrides = {0: '500', 1: '1000', 2: '1500', 3: '2000', 4: '2500', 5: '3000', 6: '3500'}\n",
    "p5.yaxis.axis_label = 'Count'\n",
    "\n",
    "#Legend properties\n",
    "p5.legend.location = \"top_right\"\n",
    "p5.legend.click_policy=\"hide\""
   ]
  },
  {
   "cell_type": "markdown",
   "metadata": {},
   "source": [
    "### Sixth figure - Hours per week"
   ]
  },
  {
   "cell_type": "code",
   "execution_count": 60,
   "metadata": {
    "ExecuteTime": {
     "end_time": "2020-12-17T01:52:12.508624Z",
     "start_time": "2020-12-17T01:52:12.479048Z"
    }
   },
   "outputs": [],
   "source": [
    "#Visualising the Bokeh figure\n",
    "p6 = figure(plot_width=500, plot_height=250, background_fill_color=\"#fafafa\")\n",
    "p6.circle(plot6['index'], plot6['Count'], line_width=2, color='olivedrab', alpha=0.8, muted_color='White', muted_alpha=0.2, legend_label='Classified' )\n",
    "p6.circle(plot66['index'], plot66['Count'], line_width=2, color='firebrick', alpha=0.8, muted_color='White', muted_alpha=0.2, legend_label='Misclassified')\n",
    "p6.line(plot6['index'], plot6['Count'], line_width=2, color='olivedrab', alpha=0.4, muted_color='White', muted_alpha=0.2, legend_label='Classified' )\n",
    "p6.line(plot66['index'], plot66['Count'], line_width=2, color='firebrick', alpha=0.4, muted_color='White', muted_alpha=0.2, legend_label='Misclassified')\n",
    "\n",
    "#Labels and ticks\n",
    "p6.xaxis.axis_label = 'Hours/ Week'\n",
    "p6.xaxis.ticker = [0, 2, 4, 6, 8]\n",
    "p6.xaxis.major_label_overrides = {0: '10', 2: '20', 4: '40', 6: '60', 8: '80', 10: '100'}\n",
    "p6.yaxis.axis_label = 'Count'\n",
    "\n",
    "#Legend properties\n",
    "p6.legend.location = \"top_right\"\n",
    "p6.legend.click_policy=\"hide\""
   ]
  },
  {
   "cell_type": "markdown",
   "metadata": {},
   "source": [
    "## Categorical Variables "
   ]
  },
  {
   "cell_type": "markdown",
   "metadata": {
    "ExecuteTime": {
     "end_time": "2020-12-17T00:16:39.250376Z",
     "start_time": "2020-12-17T00:16:39.245771Z"
    }
   },
   "source": [
    "### First figure - Work Class "
   ]
  },
  {
   "cell_type": "code",
   "execution_count": 61,
   "metadata": {
    "ExecuteTime": {
     "end_time": "2020-12-17T01:52:12.531597Z",
     "start_time": "2020-12-17T01:52:12.511861Z"
    }
   },
   "outputs": [],
   "source": [
    "categories = ['Federal-gov', 'Local-gov', 'Private','Self-emp-inc', 'Self-emp-not-inc', 'State-gov', 'Without-pay']\n",
    "category = ['Classified', 'Misclassified']\n",
    "\n",
    "data = {'categories' : categories,\n",
    "        'Classified'   : [363, 811, 9352, 419, 1022, 536,5],\n",
    "        'Misclassified'   : [100, 222, 1669, 153, 275, 131,2]}\n",
    "\n",
    "tools1=[BoxZoomTool(), PanTool(), ResetTool()]\n",
    "\n",
    "source = ColumnDataSource(data=data)\n",
    "\n",
    "#Visualizing the figure    \n",
    "p7 = figure(x_range=categories, y_range=(0, 10000), plot_height=250, plot_width=500,title=\"Work Class Categories\", tools=tools1)\n",
    "p7.vbar(x=dodge('categories', -0.25,range=p7.x_range), width=0.4, top='Classified', color=\"olivedrab\",  alpha=0.6, legend_label= 'Classified', line_color='white', source=source)\n",
    "p7.vbar(x=dodge('categories', 0.25,range=p7.x_range),  width=0.4, top='Misclassified',  legend_label= 'Misclassified', color=\"firebrick\",  alpha=0.6, line_color='white', source=source)\n",
    "\n",
    "\n",
    "p7.x_range.range_padding = 0.1\n",
    "p7.xgrid.grid_line_color = None\n",
    "p7.xaxis.major_label_orientation = 0.3\n",
    "\n",
    "#Hover Tool\n",
    "hover1 = HoverTool(\n",
    "tooltips=[\n",
    "( 'Classified' , '@Classified'),\n",
    "( 'Misclassified', '@Misclassified'),\n",
    "( 'Work Class', '@categories')\n",
    "]\n",
    ")\n",
    "p7.add_tools(hover1)\n",
    "\n",
    "#Legend properties\n",
    "p7.legend.location = \"top_right\"\n",
    "p7.legend.orientation = \"vertical\"\n",
    "p7.legend.click_policy=\"hide\"\n"
   ]
  },
  {
   "cell_type": "code",
   "execution_count": 62,
   "metadata": {
    "ExecuteTime": {
     "end_time": "2020-12-17T01:52:12.544918Z",
     "start_time": "2020-12-17T01:52:12.534389Z"
    }
   },
   "outputs": [],
   "source": [
    "plot8 = pr.groupby(['X10','result'])[['result']].count()"
   ]
  },
  {
   "cell_type": "markdown",
   "metadata": {},
   "source": [
    "### Second figure - Gender "
   ]
  },
  {
   "cell_type": "code",
   "execution_count": 63,
   "metadata": {
    "ExecuteTime": {
     "end_time": "2020-12-17T01:52:12.569456Z",
     "start_time": "2020-12-17T01:52:12.547843Z"
    }
   },
   "outputs": [],
   "source": [
    "sex = ['Female', 'Male']\n",
    "category = ['Classified', 'Misclassified']\n",
    "\n",
    "data = {'sex' : sex,\n",
    "        'Classified'   : [4468, 8040],\n",
    "        'Misclassified'   : [445, 2107]}\n",
    "\n",
    "tools2=[BoxZoomTool(), PanTool(), ResetTool()]\n",
    "\n",
    "source = ColumnDataSource(data=data)\n",
    "\n",
    "#Visualizing the figure    \n",
    "p8 = figure(x_range=sex, y_range=(0, 8100),plot_height=250, plot_width=500,title=\"Sex of individuals\", tools=tools2)\n",
    "\n",
    "p8.vbar(x=dodge('sex', -0.25,range=p8.x_range), width=0.4, top='Classified', color=\"olivedrab\", alpha=0.6, legend_label= 'Classified', source=source)\n",
    "p8.vbar(x=dodge('sex', 0.25,range=p8.x_range),  width=0.4, top='Misclassified',  legend_label= 'Misclassified', color=\"firebrick\", alpha=0.6,  source=source)\n",
    "\n",
    "p8.x_range.range_padding = 0.1\n",
    "p8.xgrid.grid_line_color = None\n",
    "p8.xaxis.major_label_orientation = 0.3\n",
    "\n",
    "#Hover tool\n",
    "hover2 = HoverTool(\n",
    "tooltips=[\n",
    "( 'Classified' , '@Classified'),\n",
    "( 'Misclassified', '@Misclassified'),\n",
    "( 'Sex', '@sex')\n",
    "]\n",
    ")\n",
    "p8.add_tools(hover2)\n",
    "\n",
    "#Legend properties\n",
    "p8.legend.location = \"top_right\"\n",
    "p8.legend.click_policy=\"hide\"\n",
    "p8.legend.orientation = \"vertical\""
   ]
  },
  {
   "cell_type": "code",
   "execution_count": 64,
   "metadata": {
    "ExecuteTime": {
     "end_time": "2020-12-17T01:52:12.586035Z",
     "start_time": "2020-12-17T01:52:12.572340Z"
    }
   },
   "outputs": [],
   "source": [
    "plot9 = pr.groupby(['X6','result'])[['result']].count()"
   ]
  },
  {
   "cell_type": "markdown",
   "metadata": {},
   "source": [
    "### Third figure - Marital Status"
   ]
  },
  {
   "cell_type": "code",
   "execution_count": 65,
   "metadata": {
    "ExecuteTime": {
     "end_time": "2020-12-17T01:52:12.621165Z",
     "start_time": "2020-12-17T01:52:12.590106Z"
    }
   },
   "outputs": [],
   "source": [
    "status = ['Divorced', 'Married','Never-married','Seperated','Widowed']\n",
    "category = ['Classified', 'Misclassified']\n",
    "\n",
    "data = {'status' : status,\n",
    "        'Classified'   : [1879, 5143,4641,437,408],\n",
    "        'Misclassified'   : [204, 2040,231,35,42]}\n",
    "\n",
    "tools3=[BoxZoomTool(), PanTool(), ResetTool()]\n",
    "\n",
    "source = ColumnDataSource(data=data)\n",
    "\n",
    "#Visualizing the figure    \n",
    "p9 = figure(x_range=status, y_range=(0, 5200), plot_height=250, plot_width=500, title=\"Marital Status of individuals\",tools=tools3)\n",
    "\n",
    "p9.vbar(x=dodge('status', -0.25,range=p9.x_range), width=0.4, top='Classified', color=\"olivedrab\",  alpha=0.6,legend_label= 'Classified', line_color='white', source=source)\n",
    "p9.vbar(x=dodge('status', 0.25,range=p9.x_range),  width=0.4, top='Misclassified',  legend_label= 'Misclassified', alpha=0.6, color=\"firebrick\", line_color='white', source=source)\n",
    "\n",
    "p9.x_range.range_padding = 0.1\n",
    "p9.xgrid.grid_line_color = None\n",
    "p9.xaxis.major_label_orientation = 0.3\n",
    "\n",
    "\n",
    "#Hover tool\n",
    "hover3 = HoverTool(tooltips=[( 'Classified' , '@Classified'),('Misclassified', '@Misclassified'),( 'Status', '@status')])\n",
    "\n",
    "p9.add_tools(hover3)\n",
    "\n",
    "#Legend properties\n",
    "p9.legend.location = \"top_right\"\n",
    "p9.legend.orientation = \"vertical\"\n",
    "p9.legend.click_policy=\"hide\""
   ]
  },
  {
   "cell_type": "code",
   "execution_count": 66,
   "metadata": {
    "ExecuteTime": {
     "end_time": "2020-12-17T01:52:12.643801Z",
     "start_time": "2020-12-17T01:52:12.625491Z"
    }
   },
   "outputs": [],
   "source": [
    "plot10 = pr.groupby(['X10','result'])[['result']].count()"
   ]
  },
  {
   "cell_type": "markdown",
   "metadata": {
    "ExecuteTime": {
     "end_time": "2020-12-17T00:04:17.293675Z",
     "start_time": "2020-12-17T00:04:17.291154Z"
    }
   },
   "source": [
    "### Fourth figure - Race"
   ]
  },
  {
   "cell_type": "code",
   "execution_count": 67,
   "metadata": {
    "ExecuteTime": {
     "end_time": "2020-12-17T01:52:12.674976Z",
     "start_time": "2020-12-17T01:52:12.647973Z"
    }
   },
   "outputs": [],
   "source": [
    "races = ['Amer-Indian-Eskimo', 'Asian-Pac-Islander','Black','Other','White']\n",
    "category = ['Classified', 'Misclassified']\n",
    "\n",
    "data = {'races' : races,\n",
    "        'Classified'   : [129, 330,1269,100,10680],\n",
    "        'Misclassified'   : [20, 78,142,22,2290]}\n",
    "\n",
    "\n",
    "tools4=[BoxZoomTool(), PanTool(), ResetTool()]\n",
    "\n",
    "\n",
    "source = ColumnDataSource(data=data)\n",
    "\n",
    "#Visualizing the figure    \n",
    "p10 = figure(x_range=races, y_range=(0, 10700), plot_height=250, plot_width=500,title=\"Race of individuals\", tools=tools4)\n",
    "p10.vbar(x=dodge('races', -0.25,range=p10.x_range), width=0.4, top='Classified', color=\"olivedrab\", alpha=0.6,legend_label= 'Classified', line_color='white', source=source)\n",
    "p10.vbar(x=dodge('races', 0.25,range=p10.x_range),  width=0.4, top='Misclassified',  legend_label= 'Misclassified', alpha=0.6, color=\"firebrick\", line_color='white', source=source)\n",
    "\n",
    "p10.x_range.range_padding = 0.1\n",
    "p10.xgrid.grid_line_color = None\n",
    "p10.xaxis.major_label_orientation = 0.3\n",
    "\n",
    "\n",
    "#Legend properties\n",
    "p10.legend.click_policy=\"hide\"\n",
    "p10.legend.location = \"top_left\"\n",
    "p10.legend.orientation = \"vertical\"\n",
    "\n",
    "#Hover tool\n",
    "hover4 = HoverTool(\n",
    "tooltips=[\n",
    "( 'Classified' , '@Classified'),\n",
    "( 'Misclassified', '@Misclassified'),\n",
    "('Race', '@races')\n",
    "]\n",
    ")\n",
    "\n",
    "p10.add_tools(hover4)"
   ]
  },
  {
   "cell_type": "code",
   "execution_count": 68,
   "metadata": {
    "ExecuteTime": {
     "end_time": "2020-12-17T01:52:12.692848Z",
     "start_time": "2020-12-17T01:52:12.677880Z"
    }
   },
   "outputs": [],
   "source": [
    "plot101 = pr.groupby(['X7','result'])[['result']].count()"
   ]
  },
  {
   "cell_type": "markdown",
   "metadata": {},
   "source": [
    "### Fifth Figure - Occupation Classified"
   ]
  },
  {
   "cell_type": "code",
   "execution_count": 69,
   "metadata": {
    "ExecuteTime": {
     "end_time": "2020-12-17T01:52:12.728384Z",
     "start_time": "2020-12-17T01:52:12.708638Z"
    }
   },
   "outputs": [],
   "source": [
    "x = {\n",
    "'Adm-clerical':1608,\n",
    "'Armed-Forces':4,\n",
    "'Craft-repair':1567,\n",
    "'Exec-managerial':1519,\n",
    "'Farming-fishing':439,\n",
    "'Handlers-cleaners':643,\n",
    "'Machine-op-inspct':876,\n",
    "'Other-service':1531,\n",
    "'Priv-house-serv':87,\n",
    "'Prof-specialty':1505,\n",
    "'Protective-serv':249,\n",
    "'Sales':1496,\n",
    "'Tech-support':396,\n",
    "'Transport-moving':588\n",
    "}\n",
    "\n",
    "\n",
    "data = pd.Series(x).reset_index(name='value').rename(columns={'index':'occup'})\n",
    "data['angle'] = data['value']/data['value'].sum() * 2*pi\n",
    "data['color'] = Category20c[len(x)]\n",
    "\n",
    "#Visualizing the figure    \n",
    "p11 = figure(plot_height=400, plot_width=500, title=\"Classified cases - Occupation\", toolbar_location=None,\n",
    "           tools=\"hover\", tooltips=\"@occup: @value\", x_range=(-0.5, 1.0))\n",
    "\n",
    "p11.wedge(x=0, y=1, radius=0.3,\n",
    "        start_angle=cumsum('angle', include_zero=True), end_angle=cumsum('angle'),\n",
    "        line_color=\"white\", fill_color='color', legend_field='occup', source=data)\n",
    "\n",
    "p11.axis.axis_label=None\n",
    "p11.axis.visible=False\n",
    "p11.grid.grid_line_color = None"
   ]
  },
  {
   "cell_type": "markdown",
   "metadata": {},
   "source": [
    "### Sixth Figure - Occupation Misclassified"
   ]
  },
  {
   "cell_type": "code",
   "execution_count": 70,
   "metadata": {
    "ExecuteTime": {
     "end_time": "2020-12-17T01:52:12.757353Z",
     "start_time": "2020-12-17T01:52:12.735741Z"
    }
   },
   "outputs": [],
   "source": [
    "x = {\n",
    "'Adm-clerical':211,\n",
    "'Armed-Forces':1,\n",
    "'Craft-repair':423,\n",
    "'Exec-managerial':473,\n",
    "'Farming-fishing':52,\n",
    "'Handlers-cleaners':53,\n",
    "'Machine-op-inspct':128,\n",
    "'Other-service':65,\n",
    "'Priv-house-serv':2,\n",
    "'Prof-specialty':465,\n",
    "'Protective-serv':83,\n",
    "'Sales':328,\n",
    "'Tech-support':112,\n",
    "'Transport-moving':156\n",
    "}\n",
    "\n",
    "data = pd.Series(x).reset_index(name='value').rename(columns={'index':'occup'})\n",
    "data['angle'] = data['value']/data['value'].sum() * 2*pi\n",
    "data['color'] = Category20c[len(x)]\n",
    "\n",
    "p12 = figure(plot_height=400, plot_width=500, title=\"Misclassified cases - Occupation \", toolbar_location=None,\n",
    "           tools=\"hover\", tooltips=\"@occup: @value\", x_range=(-0.5, 1.0))\n",
    "\n",
    "p12.wedge(x=0, y=1, radius=0.3,\n",
    "        start_angle=cumsum('angle', include_zero=True), end_angle=cumsum('angle'),\n",
    "        line_color=\"white\", fill_color='color', legend_field='occup', source=data)\n",
    "\n",
    "p12.axis.axis_label=None\n",
    "p12.axis.visible=False\n",
    "p12.grid.grid_line_color = None"
   ]
  },
  {
   "cell_type": "code",
   "execution_count": 71,
   "metadata": {
    "ExecuteTime": {
     "end_time": "2020-12-17T01:52:13.442732Z",
     "start_time": "2020-12-17T01:52:12.759975Z"
    }
   },
   "outputs": [],
   "source": [
    "#Visualise dashboard with tab layout\n",
    "\n",
    "l1 = layout([[p, p2], [p3, p4], [p5, p6]])\n",
    "l2 = layout([[p7,p8], [p9,p10], [p11, p12]])\n",
    "\n",
    "tab1 = Panel(child=l1,title=\"Continuous\")\n",
    "tab2 = Panel(child=l2,title=\"Categorical\")\n",
    "tabs = Tabs(tabs=[ tab1, tab2 ])\n",
    "\n",
    "show(Tabs(tabs=[tab1, tab2]))\n",
    "# output_file(\"PA.html\")\n",
    "\n",
    "path = os.path.join('output', 'dashboard.html')\n",
    "output_file(path)"
   ]
  },
  {
   "cell_type": "code",
   "execution_count": null,
   "metadata": {},
   "outputs": [],
   "source": []
  }
 ],
 "metadata": {
  "colab": {
   "authorship_tag": "ABX9TyMc1026AEiyRurwWbjmsRVh",
   "collapsed_sections": [],
   "include_colab_link": true,
   "mount_file_id": "1vozppZAgENIGDSirA5FOKZfK8CimNi1s",
   "name": "lab",
   "provenance": []
  },
  "kernelspec": {
   "display_name": "Python 3",
   "language": "python",
   "name": "python3"
  },
  "language_info": {
   "codemirror_mode": {
    "name": "ipython",
    "version": 3
   },
   "file_extension": ".py",
   "mimetype": "text/x-python",
   "name": "python",
   "nbconvert_exporter": "python",
   "pygments_lexer": "ipython3",
   "version": "3.8.6"
  },
  "latex_envs": {
   "LaTeX_envs_menu_present": true,
   "autoclose": false,
   "autocomplete": true,
   "bibliofile": "biblio.bib",
   "cite_by": "apalike",
   "current_citInitial": 1,
   "eqLabelWithNumbers": true,
   "eqNumInitial": 1,
   "hotkeys": {
    "equation": "Ctrl-E",
    "itemize": "Ctrl-I"
   },
   "labels_anchors": false,
   "latex_user_defs": false,
   "report_style_numbering": false,
   "user_envs_cfg": false
  },
  "toc": {
   "base_numbering": 1,
   "nav_menu": {},
   "number_sections": true,
   "sideBar": false,
   "skip_h1_title": false,
   "title_cell": "Table of Contents",
   "title_sidebar": "Contents",
   "toc_cell": false,
   "toc_position": {
    "height": "434px",
    "left": "77px",
    "top": "134px",
    "width": "542.359375px"
   },
   "toc_section_display": false,
   "toc_window_display": true
  },
  "varInspector": {
   "cols": {
    "lenName": 16,
    "lenType": 16,
    "lenVar": 40
   },
   "kernels_config": {
    "python": {
     "delete_cmd_postfix": "",
     "delete_cmd_prefix": "del ",
     "library": "var_list.py",
     "varRefreshCmd": "print(var_dic_list())"
    },
    "r": {
     "delete_cmd_postfix": ") ",
     "delete_cmd_prefix": "rm(",
     "library": "var_list.r",
     "varRefreshCmd": "cat(var_dic_list()) "
    }
   },
   "types_to_exclude": [
    "module",
    "function",
    "builtin_function_or_method",
    "instance",
    "_Feature"
   ],
   "window_display": false
  }
 },
 "nbformat": 4,
 "nbformat_minor": 1
}
